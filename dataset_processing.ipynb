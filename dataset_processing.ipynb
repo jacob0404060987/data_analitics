{
 "cells": [
  {
   "cell_type": "markdown",
   "metadata": {},
   "source": [
    "Imports sraty pierdaty\n"
   ]
  },
  {
   "cell_type": "code",
   "execution_count": 58,
   "metadata": {},
   "outputs": [],
   "source": [
    "import numpy as np\n",
    "import scipy.stats as stats\n",
    "import pandas as pd"
   ]
  },
  {
   "cell_type": "code",
   "execution_count": 59,
   "metadata": {},
   "outputs": [
    {
     "name": "stdout",
     "output_type": "stream",
     "text": [
      "263\n",
      "\n",
      "\n",
      "271\n"
     ]
    }
   ],
   "source": [
    "dataset = pd.read_csv(\"MY2022 Fuel Consumption Ratings.csv\")\n",
    "\n",
    "print(dataset['CO2 Emissions(g/km)'][1])\n",
    "print('\\n')\n",
    "print(dataset['CO2 Emissions(g/km)'][10])"
   ]
  },
  {
   "cell_type": "code",
   "execution_count": 60,
   "metadata": {},
   "outputs": [
    {
     "data": {
      "text/html": [
       "<div>\n",
       "<style scoped>\n",
       "    .dataframe tbody tr th:only-of-type {\n",
       "        vertical-align: middle;\n",
       "    }\n",
       "\n",
       "    .dataframe tbody tr th {\n",
       "        vertical-align: top;\n",
       "    }\n",
       "\n",
       "    .dataframe thead th {\n",
       "        text-align: right;\n",
       "    }\n",
       "</style>\n",
       "<table border=\"1\" class=\"dataframe\">\n",
       "  <thead>\n",
       "    <tr style=\"text-align: right;\">\n",
       "      <th></th>\n",
       "      <th>0</th>\n",
       "    </tr>\n",
       "  </thead>\n",
       "  <tbody>\n",
       "    <tr>\n",
       "      <th>0</th>\n",
       "      <td>Compact</td>\n",
       "    </tr>\n",
       "    <tr>\n",
       "      <th>1</th>\n",
       "      <td>SUV: Small</td>\n",
       "    </tr>\n",
       "    <tr>\n",
       "      <th>2</th>\n",
       "      <td>Mid-size</td>\n",
       "    </tr>\n",
       "    <tr>\n",
       "      <th>3</th>\n",
       "      <td>Minicompact</td>\n",
       "    </tr>\n",
       "    <tr>\n",
       "      <th>4</th>\n",
       "      <td>SUV: Standard</td>\n",
       "    </tr>\n",
       "    <tr>\n",
       "      <th>5</th>\n",
       "      <td>Two-seater</td>\n",
       "    </tr>\n",
       "    <tr>\n",
       "      <th>6</th>\n",
       "      <td>Subcompact</td>\n",
       "    </tr>\n",
       "    <tr>\n",
       "      <th>7</th>\n",
       "      <td>Station wagon: Small</td>\n",
       "    </tr>\n",
       "    <tr>\n",
       "      <th>8</th>\n",
       "      <td>Station wagon: Mid-size</td>\n",
       "    </tr>\n",
       "    <tr>\n",
       "      <th>9</th>\n",
       "      <td>Full-size</td>\n",
       "    </tr>\n",
       "    <tr>\n",
       "      <th>10</th>\n",
       "      <td>Pickup truck: Small</td>\n",
       "    </tr>\n",
       "    <tr>\n",
       "      <th>11</th>\n",
       "      <td>Pickup truck: Standard</td>\n",
       "    </tr>\n",
       "    <tr>\n",
       "      <th>12</th>\n",
       "      <td>Minivan</td>\n",
       "    </tr>\n",
       "    <tr>\n",
       "      <th>13</th>\n",
       "      <td>Special purpose vehicle</td>\n",
       "    </tr>\n",
       "  </tbody>\n",
       "</table>\n",
       "</div>"
      ],
      "text/plain": [
       "                          0\n",
       "0                   Compact\n",
       "1                SUV: Small\n",
       "2                  Mid-size\n",
       "3               Minicompact\n",
       "4             SUV: Standard\n",
       "5                Two-seater\n",
       "6                Subcompact\n",
       "7      Station wagon: Small\n",
       "8   Station wagon: Mid-size\n",
       "9                 Full-size\n",
       "10      Pickup truck: Small\n",
       "11   Pickup truck: Standard\n",
       "12                  Minivan\n",
       "13  Special purpose vehicle"
      ]
     },
     "execution_count": 60,
     "metadata": {},
     "output_type": "execute_result"
    }
   ],
   "source": [
    "carTypes = dataset['Vehicle Class']\n",
    "uniqueTypes = pd.DataFrame(carTypes.unique())\n",
    "uniqueTypes"
   ]
  },
  {
   "cell_type": "code",
   "execution_count": 61,
   "metadata": {},
   "outputs": [],
   "source": [
    "compacts = dataset[dataset['Vehicle Class']== 'Compact']\n",
    "suvSmall =  dataset[dataset['Vehicle Class']== 'SUV: Small']\n",
    "midSize =  dataset[dataset['Vehicle Class']== 'Mid-size']\n",
    "miniCompact =  dataset[dataset['Vehicle Class']== 'Minicompact']\n",
    "suvStandard =  dataset[dataset['Vehicle Class']== 'SUV: Standard']\n",
    "twoSeater =  dataset[dataset['Vehicle Class']== 'Two-seater']\n",
    "subCompact =  dataset[dataset['Vehicle Class']== 'Subcompact']\n",
    "stationWagonSmall =  dataset[dataset['Vehicle Class']== 'Station wagon: Small']\n",
    "stationWagonMid =  dataset[dataset['Vehicle Class']== 'Station wagon: Mid-size']\n",
    "fullSize =  dataset[dataset['Vehicle Class']== 'Full-size']\n",
    "pickupSmall =  dataset[dataset['Vehicle Class']== 'Pickup truck: Small']\n",
    "pickupStandard =  dataset[dataset['Vehicle Class']== 'Pickup truck: Standard']\n",
    "minivan = dataset[dataset['Vehicle Class']== 'Minivan']\n",
    "specialPurposeVehicle = dataset[dataset['Vehicle Class']== 'Special purpose vehicle']"
   ]
  },
  {
   "cell_type": "markdown",
   "metadata": {},
   "source": [
    "compacts -> 0.28 - 0.32<br />\n",
    "suv small -> 0.34 - 0.4<br />\n",
    "mid size -> 0.28 - 0.33<br />\n",
    "minicompact -> 0.3 - 0.35<br />\n",
    "suv standard -> 0.35 - 0.45<br />\n",
    "two seater -> 0.3 - 0.35<br />\n",
    "subcompact -> 0.3 - 0.35<br />\n",
    "station wagon small -> 0.3 -0.35<br />\n",
    "station wagon mid size -> 0.32 - 0.36<br />\n",
    "full size -> 0.28 - 0.35<br />\n",
    "pickup small -> 0.38 - 0.45<br />\n",
    "pickup standard -> 0.4 -> 0.5<br />\n",
    "minivan -> 0.3 - 0.35<br />\n",
    "special purpose -> 0.33 - 0.37<br />"
   ]
  },
  {
   "cell_type": "code",
   "execution_count": 62,
   "metadata": {},
   "outputs": [],
   "source": [
    "cx_compacts =(0.28+ 0.32)/2\n",
    "cx_suv_small =(0.34 + 0.4)/2\n",
    "cx_mid_size = (0.28 + 0.33)/2\n",
    "cx_minicompact = (0.3 + 0.35)/2\n",
    "cx_suv_standard =( 0.35 + 0.45)/2\n",
    "cx_two_seater = (0.3 + 0.35)/2\n",
    "cx_subcompact = (0.3 + 0.35)/2\n",
    "cx_station_wagon_small = (0.3 + 0.35)/2\n",
    "cx_station_wagon_mid_size = (0.32 + 0.36)/2\n",
    "cx_full_size = (0.28 + 0.35)/2\n",
    "cx_pickup_small = (0.38 + 0.45)/2\n",
    "cx_pickup_standard = (0.4 + 0.5)/2\n",
    "cx_minivan = (0.3 + 0.35)/2\n",
    "cx_special_purpose = (0.33 + 0.37)/2"
   ]
  },
  {
   "cell_type": "code",
   "execution_count": 63,
   "metadata": {},
   "outputs": [],
   "source": [
    "mapping = {\n",
    "    'Compact': cx_compacts,\n",
    "    'SUV: Small': cx_suv_small,\n",
    "    'Mid-size': cx_mid_size,\n",
    "    'Minicompact': cx_minicompact,\n",
    "    'SUV: Standard': cx_suv_standard,\n",
    "    'Two-seater': cx_two_seater,\n",
    "    'Subcompact': cx_subcompact,\n",
    "    'Station wagon: Small': cx_station_wagon_small,\n",
    "    'Station wagon: Mid-size': cx_station_wagon_mid_size,\n",
    "    'Full-size': cx_full_size,\n",
    "    'Pickup truck: Small': cx_pickup_small,\n",
    "    'Pickup truck: Standard': cx_pickup_standard,\n",
    "    'Minivan': cx_minivan,\n",
    "    'Special purpose vehicle': cx_special_purpose\n",
    "}\n",
    "\n"
   ]
  },
  {
   "cell_type": "code",
   "execution_count": 64,
   "metadata": {},
   "outputs": [],
   "source": [
    "dataset['Drag coefficient'] = dataset['Vehicle Class'].map(mapping).fillna(dataset['Vehicle Class'])"
   ]
  },
  {
   "cell_type": "code",
   "execution_count": 65,
   "metadata": {},
   "outputs": [],
   "source": [
    "dataset.to_csv('processed_dataset.csv')"
   ]
  }
 ],
 "metadata": {
  "kernelspec": {
   "display_name": "Python 3",
   "language": "python",
   "name": "python3"
  },
  "language_info": {
   "codemirror_mode": {
    "name": "ipython",
    "version": 3
   },
   "file_extension": ".py",
   "mimetype": "text/x-python",
   "name": "python",
   "nbconvert_exporter": "python",
   "pygments_lexer": "ipython3",
   "version": "3.8.5"
  }
 },
 "nbformat": 4,
 "nbformat_minor": 2
}
