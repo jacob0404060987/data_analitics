{
 "cells": [
  {
   "cell_type": "markdown",
   "metadata": {},
   "source": [
    "Imports sraty pierdaty\n"
   ]
  },
  {
   "cell_type": "code",
   "execution_count": null,
   "metadata": {},
   "outputs": [],
   "source": [
    "#from cmdstanpy import CmdStanModel\n",
    "#import arviz as az\n",
    "import numpy as np\n",
    "import scipy.stats as stats\n",
    "#import matplotlib.pyplot as plt\n",
    "import pandas as pds"
   ]
  }
 ],
 "metadata": {
  "kernelspec": {
   "display_name": "Python 3",
   "language": "python",
   "name": "python3"
  },
  "language_info": {
   "name": "python",
   "version": "3.11.4"
  }
 },
 "nbformat": 4,
 "nbformat_minor": 2
}
