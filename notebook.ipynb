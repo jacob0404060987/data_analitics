{
 "cells": [
  {
   "cell_type": "markdown",
   "metadata": {},
   "source": [
    "Imports sraty pierdaty\n"
   ]
  },
  {
   "cell_type": "code",
   "execution_count": 114,
   "metadata": {},
   "outputs": [],
   "source": [
    "from cmdstanpy import CmdStanModel\n",
    "\n",
    "import arviz as az\n",
    "import numpy as np\n",
    "import scipy.stats as stats\n",
    "\n",
    "import matplotlib.pyplot as plt\n",
    "import pandas as pd\n",
    "import random as rd\n"
   ]
  },
  {
   "cell_type": "code",
   "execution_count": 115,
   "metadata": {},
   "outputs": [
    {
     "data": {
      "text/html": [
       "<div>\n",
       "<style scoped>\n",
       "    .dataframe tbody tr th:only-of-type {\n",
       "        vertical-align: middle;\n",
       "    }\n",
       "\n",
       "    .dataframe tbody tr th {\n",
       "        vertical-align: top;\n",
       "    }\n",
       "\n",
       "    .dataframe thead th {\n",
       "        text-align: right;\n",
       "    }\n",
       "</style>\n",
       "<table border=\"1\" class=\"dataframe\">\n",
       "  <thead>\n",
       "    <tr style=\"text-align: right;\">\n",
       "      <th></th>\n",
       "      <th>Unnamed: 0</th>\n",
       "      <th>Make</th>\n",
       "      <th>Model</th>\n",
       "      <th>Engine Size(L)</th>\n",
       "      <th>Cylinders</th>\n",
       "      <th>Fuel Consumption(Hwy (L/100 km))</th>\n",
       "      <th>Drag coefficient</th>\n",
       "    </tr>\n",
       "  </thead>\n",
       "  <tbody>\n",
       "    <tr>\n",
       "      <th>0</th>\n",
       "      <td>0</td>\n",
       "      <td>Acura</td>\n",
       "      <td>ILX</td>\n",
       "      <td>2.4</td>\n",
       "      <td>4</td>\n",
       "      <td>7.0</td>\n",
       "      <td>0.30</td>\n",
       "    </tr>\n",
       "    <tr>\n",
       "      <th>1</th>\n",
       "      <td>1</td>\n",
       "      <td>Acura</td>\n",
       "      <td>MDX SH-AWD</td>\n",
       "      <td>3.5</td>\n",
       "      <td>6</td>\n",
       "      <td>9.4</td>\n",
       "      <td>0.37</td>\n",
       "    </tr>\n",
       "    <tr>\n",
       "      <th>2</th>\n",
       "      <td>2</td>\n",
       "      <td>Acura</td>\n",
       "      <td>RDX SH-AWD</td>\n",
       "      <td>2.0</td>\n",
       "      <td>4</td>\n",
       "      <td>8.6</td>\n",
       "      <td>0.37</td>\n",
       "    </tr>\n",
       "    <tr>\n",
       "      <th>3</th>\n",
       "      <td>3</td>\n",
       "      <td>Acura</td>\n",
       "      <td>RDX SH-AWD A-SPEC</td>\n",
       "      <td>2.0</td>\n",
       "      <td>4</td>\n",
       "      <td>9.1</td>\n",
       "      <td>0.37</td>\n",
       "    </tr>\n",
       "    <tr>\n",
       "      <th>4</th>\n",
       "      <td>4</td>\n",
       "      <td>Acura</td>\n",
       "      <td>TLX SH-AWD</td>\n",
       "      <td>2.0</td>\n",
       "      <td>4</td>\n",
       "      <td>8.0</td>\n",
       "      <td>0.30</td>\n",
       "    </tr>\n",
       "  </tbody>\n",
       "</table>\n",
       "</div>"
      ],
      "text/plain": [
       "   Unnamed: 0   Make              Model  Engine Size(L)  Cylinders  \\\n",
       "0           0  Acura                ILX             2.4          4   \n",
       "1           1  Acura         MDX SH-AWD             3.5          6   \n",
       "2           2  Acura         RDX SH-AWD             2.0          4   \n",
       "3           3  Acura  RDX SH-AWD A-SPEC             2.0          4   \n",
       "4           4  Acura         TLX SH-AWD             2.0          4   \n",
       "\n",
       "   Fuel Consumption(Hwy (L/100 km))  Drag coefficient  \n",
       "0                               7.0              0.30  \n",
       "1                               9.4              0.37  \n",
       "2                               8.6              0.37  \n",
       "3                               9.1              0.37  \n",
       "4                               8.0              0.30  "
      ]
     },
     "execution_count": 115,
     "metadata": {},
     "output_type": "execute_result"
    }
   ],
   "source": [
    "dataFrame = pd.read_csv(\"processed_dataset.csv\")\n",
    "dataFrame.head()"
   ]
  },
  {
   "cell_type": "code",
   "execution_count": 116,
   "metadata": {},
   "outputs": [
    {
     "name": "stdout",
     "output_type": "stream",
     "text": [
      "Unnamed: 0                            int64\n",
      "Make                                 object\n",
      "Model                                object\n",
      "Engine Size(L)                      float64\n",
      "Cylinders                             int64\n",
      "Fuel Consumption(Hwy (L/100 km))    float64\n",
      "Drag coefficient                    float64\n",
      "dtype: object\n"
     ]
    }
   ],
   "source": [
    "dataFrame = dataFrame.sort_values(by ='Engine Size(L)')\n",
    "print(dataFrame.dtypes)"
   ]
  },
  {
   "cell_type": "code",
   "execution_count": 117,
   "metadata": {},
   "outputs": [
    {
     "data": {
      "image/png": "[encoded data removed]",
      "text/plain": [
       "<Figure size 720x720 with 1 Axes>"
      ]
     },
     "metadata": {
      "needs_background": "light"
     },
     "output_type": "display_data"
    }
   ],
   "source": [
    "plt.figure(0,figsize=(10,10))\n",
    "plt.scatter(dataFrame['Engine Size(L)'], dataFrame['Fuel Consumption(Hwy (L/100 km))'],alpha=0.7,marker='o')\n",
    "plt.xlabel('Engine size')\n",
    "plt.ylabel('Fuel consumption')\n",
    "plt.show()"
   ]
  },
  {
   "cell_type": "code",
   "execution_count": 118,
   "metadata": {},
   "outputs": [
    {
     "data": {
      "image/png": "[encoded data removed]",
      "text/plain": [
       "<Figure size 432x288 with 1 Axes>"
      ]
     },
     "metadata": {
      "needs_background": "light"
     },
     "output_type": "display_data"
    }
   ],
   "source": [
    "plt.hist(dataFrame[\"Fuel Consumption(Hwy (L/100 km))\"],bins=30)\n",
    "plt.show()"
   ]
  },
  {
   "cell_type": "code",
   "execution_count": 119,
   "metadata": {},
   "outputs": [],
   "source": [
    "N = dataFrame.shape[0]\n",
    "engine_size_data = dataFrame['Engine Size(L)']\n",
    "cylinders_data = dataFrame['Cylinders']\n",
    "drag_coeficient_data = dataFrame['Drag coefficient']\n",
    "fuel_consumption_data = dataFrame['Fuel Consumption(Hwy (L/100 km))']"
   ]
  },
  {
   "cell_type": "code",
   "execution_count": 120,
   "metadata": {},
   "outputs": [
    {
     "name": "stderr",
     "output_type": "stream",
     "text": [
      "INFO:cmdstanpy:found newer exe file, not recompiling\n"
     ]
    }
   ],
   "source": [
    "model_2_prior=CmdStanModel(stan_file='model_2_prior.stan')"
   ]
  },
  {
   "cell_type": "code",
   "execution_count": 121,
   "metadata": {},
   "outputs": [
    {
     "name": "stderr",
     "output_type": "stream",
     "text": [
      "INFO:cmdstanpy:CmdStan start processing\n",
      "chain 1 |\u001b[34m██████████\u001b[0m| 00:00 Sampling completed"
     ]
    },
    {
     "name": "stdout",
     "output_type": "stream",
     "text": [
      "                                                                                "
     ]
    },
    {
     "name": "stderr",
     "output_type": "stream",
     "text": [
      "\n",
      "INFO:cmdstanpy:CmdStan done processing.\n"
     ]
    },
    {
     "name": "stdout",
     "output_type": "stream",
     "text": [
      "\n"
     ]
    }
   ],
   "source": [
    "samples_2_prior = model_2_prior.sample(data = {'N':N, 'engine_size':engine_size_data, 'drag_coeficient':drag_coeficient_data, 'cylinders':cylinders_data},\n",
    "iter_sampling=1,\n",
    "iter_warmup=2000,\n",
    "chains=1,\n",
    "seed=29042020,\n",
    "refresh=N)"
   ]
  },
  {
   "cell_type": "code",
   "execution_count": 122,
   "metadata": {},
   "outputs": [
    {
     "data": {
      "text/html": [
       "<div>\n",
       "<style scoped>\n",
       "    .dataframe tbody tr th:only-of-type {\n",
       "        vertical-align: middle;\n",
       "    }\n",
       "\n",
       "    .dataframe tbody tr th {\n",
       "        vertical-align: top;\n",
       "    }\n",
       "\n",
       "    .dataframe thead th {\n",
       "        text-align: right;\n",
       "    }\n",
       "</style>\n",
       "<table border=\"1\" class=\"dataframe\">\n",
       "  <thead>\n",
       "    <tr style=\"text-align: right;\">\n",
       "      <th></th>\n",
       "      <th>lp__</th>\n",
       "      <th>accept_stat__</th>\n",
       "      <th>alpha</th>\n",
       "      <th>beta_engine_size</th>\n",
       "      <th>beta_cylinders</th>\n",
       "      <th>beta_drag_coeficient</th>\n",
       "      <th>sigma</th>\n",
       "      <th>fuel_consumption[1]</th>\n",
       "      <th>fuel_consumption[2]</th>\n",
       "      <th>fuel_consumption[3]</th>\n",
       "      <th>...</th>\n",
       "      <th>fuel_consumption[937]</th>\n",
       "      <th>fuel_consumption[938]</th>\n",
       "      <th>fuel_consumption[939]</th>\n",
       "      <th>fuel_consumption[940]</th>\n",
       "      <th>fuel_consumption[941]</th>\n",
       "      <th>fuel_consumption[942]</th>\n",
       "      <th>fuel_consumption[943]</th>\n",
       "      <th>fuel_consumption[944]</th>\n",
       "      <th>fuel_consumption[945]</th>\n",
       "      <th>fuel_consumption[946]</th>\n",
       "    </tr>\n",
       "  </thead>\n",
       "  <tbody>\n",
       "    <tr>\n",
       "      <th>0</th>\n",
       "      <td>0.0</td>\n",
       "      <td>0.0</td>\n",
       "      <td>15.5617</td>\n",
       "      <td>0.777181</td>\n",
       "      <td>-1.27227</td>\n",
       "      <td>0.127591</td>\n",
       "      <td>0.610578</td>\n",
       "      <td>12.8661</td>\n",
       "      <td>13.4477</td>\n",
       "      <td>14.1079</td>\n",
       "      <td>...</td>\n",
       "      <td>4.80138</td>\n",
       "      <td>4.60367</td>\n",
       "      <td>4.52583</td>\n",
       "      <td>5.00854</td>\n",
       "      <td>6.15338</td>\n",
       "      <td>4.448</td>\n",
       "      <td>4.4837</td>\n",
       "      <td>1.33208</td>\n",
       "      <td>1.61435</td>\n",
       "      <td>1.60852</td>\n",
       "    </tr>\n",
       "  </tbody>\n",
       "</table>\n",
       "<p>1 rows × 953 columns</p>\n",
       "</div>"
      ],
      "text/plain": [
       "   lp__  accept_stat__    alpha  beta_engine_size  beta_cylinders  \\\n",
       "0   0.0            0.0  15.5617          0.777181        -1.27227   \n",
       "\n",
       "   beta_drag_coeficient     sigma  fuel_consumption[1]  fuel_consumption[2]  \\\n",
       "0              0.127591  0.610578              12.8661              13.4477   \n",
       "\n",
       "   fuel_consumption[3]  ...  fuel_consumption[937]  fuel_consumption[938]  \\\n",
       "0              14.1079  ...                4.80138                4.60367   \n",
       "\n",
       "   fuel_consumption[939]  fuel_consumption[940]  fuel_consumption[941]  \\\n",
       "0                4.52583                5.00854                6.15338   \n",
       "\n",
       "   fuel_consumption[942]  fuel_consumption[943]  fuel_consumption[944]  \\\n",
       "0                  4.448                 4.4837                1.33208   \n",
       "\n",
       "   fuel_consumption[945]  fuel_consumption[946]  \n",
       "0                1.61435                1.60852  \n",
       "\n",
       "[1 rows x 953 columns]"
      ]
     },
     "execution_count": 122,
     "metadata": {},
     "output_type": "execute_result"
    }
   ],
   "source": [
    "dataFrame_model_2_prior = samples_2_prior.draws_pd()\n",
    "dataFrame_model_2_prior.head()\n"
   ]
  },
  {
   "cell_type": "code",
   "execution_count": 123,
   "metadata": {},
   "outputs": [],
   "source": [
    "list = []\n",
    "for i in range(1,N):\n",
    "    val = dataFrame_model_2_prior['fuel_consumption[' + str(i)+ ']'].mean()\n",
    "    list.append(val)\n"
   ]
  },
  {
   "cell_type": "code",
   "execution_count": 124,
   "metadata": {},
   "outputs": [
    {
     "data": {
      "text/plain": [
       "(array([  2.,   0.,   0.,   0.,   0.,   0.,   1.,   6.,   3.,   5.,   0.,\n",
       "          3.,   1.,   3.,   4.,  11.,  15.,  29.,  45.,  71., 107.,  94.,\n",
       "         83.,  92., 101., 120.,  79.,  50.,  16.,   4.]),\n",
       " array([ 1.33208   ,  1.75794067,  2.18380133,  2.609662  ,  3.03552267,\n",
       "         3.46138333,  3.887244  ,  4.31310467,  4.73896533,  5.164826  ,\n",
       "         5.59068667,  6.01654733,  6.442408  ,  6.86826867,  7.29412933,\n",
       "         7.71999   ,  8.14585067,  8.57171133,  8.997572  ,  9.42343267,\n",
       "         9.84929333, 10.275154  , 10.70101467, 11.12687533, 11.552736  ,\n",
       "        11.97859667, 12.40445733, 12.830318  , 13.25617867, 13.68203933,\n",
       "        14.1079    ]),\n",
       " <BarContainer object of 30 artists>)"
      ]
     },
     "execution_count": 124,
     "metadata": {},
     "output_type": "execute_result"
    },
    {
     "data": {
      "image/png": "[encoded data removed]",
      "text/plain": [
       "<Figure size 432x288 with 1 Axes>"
      ]
     },
     "metadata": {
      "needs_background": "light"
     },
     "output_type": "display_data"
    }
   ],
   "source": [
    "plt.hist(list,bins=30)"
   ]
  },
  {
   "cell_type": "code",
   "execution_count": 125,
   "metadata": {},
   "outputs": [],
   "source": [
    "generated_fuel_consumption = samples_2_prior.stan_variable('fuel_consumption')"
   ]
  },
  {
   "cell_type": "code",
   "execution_count": 126,
   "metadata": {},
   "outputs": [
    {
     "name": "stderr",
     "output_type": "stream",
     "text": [
      "INFO:cmdstanpy:compiling stan file /home/TOOLS/DOCKER/project/data_analitics/model_2_post.stan to exe file /home/TOOLS/DOCKER/project/data_analitics/model_2_post\n"
     ]
    },
    {
     "name": "stderr",
     "output_type": "stream",
     "text": [
      "INFO:cmdstanpy:compiled model executable: /home/TOOLS/DOCKER/project/data_analitics/model_2_post\n"
     ]
    }
   ],
   "source": [
    "model_2_post=CmdStanModel(stan_file='model_2_post.stan')"
   ]
  },
  {
   "cell_type": "code",
   "execution_count": 127,
   "metadata": {},
   "outputs": [
    {
     "name": "stderr",
     "output_type": "stream",
     "text": [
      "INFO:cmdstanpy:CmdStan start processing\n",
      "chain 1 |\u001b[34m██████████\u001b[0m| 00:00 Sampling completed                   "
     ]
    },
    {
     "name": "stdout",
     "output_type": "stream",
     "text": [
      "                                                                                "
     ]
    },
    {
     "name": "stderr",
     "output_type": "stream",
     "text": [
      "\n",
      "INFO:cmdstanpy:CmdStan done processing.\n"
     ]
    },
    {
     "name": "stdout",
     "output_type": "stream",
     "text": [
      "\n"
     ]
    }
   ],
   "source": [
    "samples_2_post = model_2_post.sample(data = {'N':N, 'engine_size':engine_size_data, 'drag_coeficient':drag_coeficient_data, 'cylinders':cylinders_data, 'fuel_consumption':fuel_consumption_data},\n",
    "iter_sampling=1,\n",
    "iter_warmup=200,\n",
    "chains=1,\n",
    "seed=29042020,\n",
    "refresh=N)"
   ]
  },
  {
   "cell_type": "code",
   "execution_count": 128,
   "metadata": {},
   "outputs": [
    {
     "data": {
      "text/html": [
       "<div>\n",
       "<style scoped>\n",
       "    .dataframe tbody tr th:only-of-type {\n",
       "        vertical-align: middle;\n",
       "    }\n",
       "\n",
       "    .dataframe tbody tr th {\n",
       "        vertical-align: top;\n",
       "    }\n",
       "\n",
       "    .dataframe thead th {\n",
       "        text-align: right;\n",
       "    }\n",
       "</style>\n",
       "<table border=\"1\" class=\"dataframe\">\n",
       "  <thead>\n",
       "    <tr style=\"text-align: right;\">\n",
       "      <th></th>\n",
       "      <th>lp__</th>\n",
       "      <th>accept_stat__</th>\n",
       "      <th>stepsize__</th>\n",
       "      <th>treedepth__</th>\n",
       "      <th>n_leapfrog__</th>\n",
       "      <th>divergent__</th>\n",
       "      <th>energy__</th>\n",
       "      <th>alpha</th>\n",
       "      <th>beta_engine_size</th>\n",
       "      <th>beta_cylinders</th>\n",
       "      <th>...</th>\n",
       "      <th>y_out[937]</th>\n",
       "      <th>y_out[938]</th>\n",
       "      <th>y_out[939]</th>\n",
       "      <th>y_out[940]</th>\n",
       "      <th>y_out[941]</th>\n",
       "      <th>y_out[942]</th>\n",
       "      <th>y_out[943]</th>\n",
       "      <th>y_out[944]</th>\n",
       "      <th>y_out[945]</th>\n",
       "      <th>y_out[946]</th>\n",
       "    </tr>\n",
       "  </thead>\n",
       "  <tbody>\n",
       "    <tr>\n",
       "      <th>0</th>\n",
       "      <td>-796.131</td>\n",
       "      <td>0.965834</td>\n",
       "      <td>0.090928</td>\n",
       "      <td>4.0</td>\n",
       "      <td>23.0</td>\n",
       "      <td>0.0</td>\n",
       "      <td>798.035</td>\n",
       "      <td>2.52955</td>\n",
       "      <td>0.554205</td>\n",
       "      <td>0.466085</td>\n",
       "      <td>...</td>\n",
       "      <td>15.2729</td>\n",
       "      <td>15.0092</td>\n",
       "      <td>14.8487</td>\n",
       "      <td>14.3314</td>\n",
       "      <td>13.9805</td>\n",
       "      <td>14.5235</td>\n",
       "      <td>14.6873</td>\n",
       "      <td>15.9191</td>\n",
       "      <td>18.6526</td>\n",
       "      <td>13.0315</td>\n",
       "    </tr>\n",
       "  </tbody>\n",
       "</table>\n",
       "<p>1 rows × 958 columns</p>\n",
       "</div>"
      ],
      "text/plain": [
       "      lp__  accept_stat__  stepsize__  treedepth__  n_leapfrog__  divergent__  \\\n",
       "0 -796.131       0.965834    0.090928          4.0          23.0          0.0   \n",
       "\n",
       "   energy__    alpha  beta_engine_size  beta_cylinders  ...  y_out[937]  \\\n",
       "0   798.035  2.52955          0.554205        0.466085  ...     15.2729   \n",
       "\n",
       "   y_out[938]  y_out[939]  y_out[940]  y_out[941]  y_out[942]  y_out[943]  \\\n",
       "0     15.0092     14.8487     14.3314     13.9805     14.5235     14.6873   \n",
       "\n",
       "   y_out[944]  y_out[945]  y_out[946]  \n",
       "0     15.9191     18.6526     13.0315  \n",
       "\n",
       "[1 rows x 958 columns]"
      ]
     },
     "execution_count": 128,
     "metadata": {},
     "output_type": "execute_result"
    }
   ],
   "source": [
    "dataFrame_model_2_post = samples_2_post.draws_pd()\n",
    "dataFrame_model_2_post.head()"
   ]
  },
  {
   "cell_type": "code",
   "execution_count": 129,
   "metadata": {},
   "outputs": [],
   "source": [
    "list = []\n",
    "for i in range(1,N):\n",
    "    val = dataFrame_model_2_post['y_out[' + str(i)+ ']'].mean()\n",
    "    list.append(val)\n"
   ]
  },
  {
   "cell_type": "code",
   "execution_count": 130,
   "metadata": {},
   "outputs": [
    {
     "data": {
      "text/plain": [
       "(array([ 3.,  6.,  6., 16., 26., 46., 60., 56., 94., 96., 82., 99., 65.,\n",
       "        62., 53., 46., 26., 30., 27., 11., 13., 10.,  6.,  3.,  2.,  0.,\n",
       "         0.,  0.,  0.,  1.]),\n",
       " array([ 3.93381   ,  4.42443633,  4.91506267,  5.405689  ,  5.89631533,\n",
       "         6.38694167,  6.877568  ,  7.36819433,  7.85882067,  8.349447  ,\n",
       "         8.84007333,  9.33069967,  9.821326  , 10.31195233, 10.80257867,\n",
       "        11.293205  , 11.78383133, 12.27445767, 12.765084  , 13.25571033,\n",
       "        13.74633667, 14.236963  , 14.72758933, 15.21821567, 15.708842  ,\n",
       "        16.19946833, 16.69009467, 17.180721  , 17.67134733, 18.16197367,\n",
       "        18.6526    ]),\n",
       " <BarContainer object of 30 artists>)"
      ]
     },
     "execution_count": 130,
     "metadata": {},
     "output_type": "execute_result"
    },
    {
     "data": {
      "image/png": "[encoded data removed]",
      "text/plain": [
       "<Figure size 432x288 with 1 Axes>"
      ]
     },
     "metadata": {
      "needs_background": "light"
     },
     "output_type": "display_data"
    }
   ],
   "source": [
    "plt.hist(list,bins=30)"
   ]
  }
 ],
 "metadata": {
  "kernelspec": {
   "display_name": "Python 3",
   "language": "python",
   "name": "python3"
  },
  "language_info": {
   "codemirror_mode": {
    "name": "ipython",
    "version": 3
   },
   "file_extension": ".py",
   "mimetype": "text/x-python",
   "name": "python",
   "nbconvert_exporter": "python",
   "pygments_lexer": "ipython3",
   "version": "3.12.2"
  }
 },
 "nbformat": 4,
 "nbformat_minor": 2
}
