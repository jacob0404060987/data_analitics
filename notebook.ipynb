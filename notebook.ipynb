{
 "cells": [
  {
   "cell_type": "markdown",
   "metadata": {},
   "source": [
    "Imports sraty pierdaty\n"
   ]
  },
  {
   "cell_type": "code",
   "execution_count": 68,
   "metadata": {},
   "outputs": [],
   "source": [
    "from cmdstanpy import CmdStanModel\n",
    "\n",
    "import arviz as az\n",
    "import numpy as np\n",
    "import scipy.stats as stats\n",
    "\n",
    "import matplotlib.pyplot as plt\n",
    "import pandas as pd\n",
    "import random as rd\n"
   ]
  },
  {
   "cell_type": "code",
   "execution_count": 69,
   "metadata": {},
   "outputs": [
    {
     "data": {
      "text/html": [
       "<div>\n",
       "<style scoped>\n",
       "    .dataframe tbody tr th:only-of-type {\n",
       "        vertical-align: middle;\n",
       "    }\n",
       "\n",
       "    .dataframe tbody tr th {\n",
       "        vertical-align: top;\n",
       "    }\n",
       "\n",
       "    .dataframe thead th {\n",
       "        text-align: right;\n",
       "    }\n",
       "</style>\n",
       "<table border=\"1\" class=\"dataframe\">\n",
       "  <thead>\n",
       "    <tr style=\"text-align: right;\">\n",
       "      <th></th>\n",
       "      <th>Unnamed: 0</th>\n",
       "      <th>Make</th>\n",
       "      <th>Model</th>\n",
       "      <th>Engine Size(L)</th>\n",
       "      <th>Cylinders</th>\n",
       "      <th>Fuel Consumption(Hwy (L/100 km))</th>\n",
       "      <th>Drag coefficient</th>\n",
       "    </tr>\n",
       "  </thead>\n",
       "  <tbody>\n",
       "    <tr>\n",
       "      <th>0</th>\n",
       "      <td>0</td>\n",
       "      <td>Acura</td>\n",
       "      <td>ILX</td>\n",
       "      <td>2.4</td>\n",
       "      <td>4</td>\n",
       "      <td>7.0</td>\n",
       "      <td>0.30</td>\n",
       "    </tr>\n",
       "    <tr>\n",
       "      <th>1</th>\n",
       "      <td>1</td>\n",
       "      <td>Acura</td>\n",
       "      <td>MDX SH-AWD</td>\n",
       "      <td>3.5</td>\n",
       "      <td>6</td>\n",
       "      <td>9.4</td>\n",
       "      <td>0.37</td>\n",
       "    </tr>\n",
       "    <tr>\n",
       "      <th>2</th>\n",
       "      <td>2</td>\n",
       "      <td>Acura</td>\n",
       "      <td>RDX SH-AWD</td>\n",
       "      <td>2.0</td>\n",
       "      <td>4</td>\n",
       "      <td>8.6</td>\n",
       "      <td>0.37</td>\n",
       "    </tr>\n",
       "    <tr>\n",
       "      <th>3</th>\n",
       "      <td>3</td>\n",
       "      <td>Acura</td>\n",
       "      <td>RDX SH-AWD A-SPEC</td>\n",
       "      <td>2.0</td>\n",
       "      <td>4</td>\n",
       "      <td>9.1</td>\n",
       "      <td>0.37</td>\n",
       "    </tr>\n",
       "    <tr>\n",
       "      <th>4</th>\n",
       "      <td>4</td>\n",
       "      <td>Acura</td>\n",
       "      <td>TLX SH-AWD</td>\n",
       "      <td>2.0</td>\n",
       "      <td>4</td>\n",
       "      <td>8.0</td>\n",
       "      <td>0.30</td>\n",
       "    </tr>\n",
       "  </tbody>\n",
       "</table>\n",
       "</div>"
      ],
      "text/plain": [
       "   Unnamed: 0   Make              Model  Engine Size(L)  Cylinders  \\\n",
       "0           0  Acura                ILX             2.4          4   \n",
       "1           1  Acura         MDX SH-AWD             3.5          6   \n",
       "2           2  Acura         RDX SH-AWD             2.0          4   \n",
       "3           3  Acura  RDX SH-AWD A-SPEC             2.0          4   \n",
       "4           4  Acura         TLX SH-AWD             2.0          4   \n",
       "\n",
       "   Fuel Consumption(Hwy (L/100 km))  Drag coefficient  \n",
       "0                               7.0              0.30  \n",
       "1                               9.4              0.37  \n",
       "2                               8.6              0.37  \n",
       "3                               9.1              0.37  \n",
       "4                               8.0              0.30  "
      ]
     },
     "execution_count": 69,
     "metadata": {},
     "output_type": "execute_result"
    }
   ],
   "source": [
    "dataFrame = pd.read_csv(\"processed_dataset.csv\")\n",
    "dataFrame.head()"
   ]
  },
  {
   "cell_type": "code",
   "execution_count": 70,
   "metadata": {},
   "outputs": [
    {
     "name": "stdout",
     "output_type": "stream",
     "text": [
      "Unnamed: 0                            int64\n",
      "Make                                 object\n",
      "Model                                object\n",
      "Engine Size(L)                      float64\n",
      "Cylinders                             int64\n",
      "Fuel Consumption(Hwy (L/100 km))    float64\n",
      "Drag coefficient                    float64\n",
      "dtype: object\n"
     ]
    }
   ],
   "source": [
    "dataFrame = dataFrame.sort_values(by ='Engine Size(L)')\n",
    "print(dataFrame.dtypes)"
   ]
  },
  {
   "cell_type": "code",
   "execution_count": 71,
   "metadata": {},
   "outputs": [
    {
     "data": {
      "image/png": "[encoded data removed]",
      "text/plain": [
       "<Figure size 720x720 with 1 Axes>"
      ]
     },
     "metadata": {
      "needs_background": "light"
     },
     "output_type": "display_data"
    }
   ],
   "source": [
    "plt.figure(0,figsize=(10,10))\n",
    "plt.scatter(dataFrame['Engine Size(L)'], dataFrame['Fuel Consumption(Hwy (L/100 km))'],alpha=0.7,marker='o')\n",
    "plt.xlabel('Engine size')\n",
    "plt.ylabel('Fuel consumption')\n",
    "plt.show()"
   ]
  },
  {
   "cell_type": "code",
   "execution_count": 72,
   "metadata": {},
   "outputs": [
    {
     "data": {
      "image/png": "[encoded data removed]",
      "text/plain": [
       "<Figure size 432x288 with 1 Axes>"
      ]
     },
     "metadata": {
      "needs_background": "light"
     },
     "output_type": "display_data"
    }
   ],
   "source": [
    "plt.hist(dataFrame[\"Fuel Consumption(Hwy (L/100 km))\"],bins=30)\n",
    "plt.show()"
   ]
  },
  {
   "cell_type": "code",
   "execution_count": 73,
   "metadata": {},
   "outputs": [],
   "source": [
    "N = dataFrame.shape[0]\n",
    "engine_size_data = dataFrame['Engine Size(L)']\n",
    "cylinders_data = dataFrame['Cylinders']\n",
    "drag_coeficient_data = dataFrame['Drag coefficient']"
   ]
  },
  {
   "cell_type": "code",
   "execution_count": 74,
   "metadata": {},
   "outputs": [
    {
     "name": "stderr",
     "output_type": "stream",
     "text": [
      "INFO:cmdstanpy:compiling stan file /home/TOOLS/DOCKER/project/data_analitics/model_2_prior.stan to exe file /home/TOOLS/DOCKER/project/data_analitics/model_2_prior\n",
      "INFO:cmdstanpy:compiled model executable: /home/TOOLS/DOCKER/project/data_analitics/model_2_prior\n"
     ]
    }
   ],
   "source": [
    "model_2_prior=CmdStanModel(stan_file='model_2_prior.stan')"
   ]
  },
  {
   "cell_type": "code",
   "execution_count": 75,
   "metadata": {},
   "outputs": [
    {
     "name": "stderr",
     "output_type": "stream",
     "text": [
      "INFO:cmdstanpy:CmdStan start processing\n",
      "chain 1 |\u001b[34m██████████\u001b[0m| 00:00 Sampling completed                     "
     ]
    },
    {
     "name": "stdout",
     "output_type": "stream",
     "text": [
      "                                                                                "
     ]
    },
    {
     "name": "stderr",
     "output_type": "stream",
     "text": [
      "\n",
      "INFO:cmdstanpy:CmdStan done processing.\n"
     ]
    },
    {
     "name": "stdout",
     "output_type": "stream",
     "text": [
      "\n"
     ]
    }
   ],
   "source": [
    "samples_2_prior = model_2_prior.sample(data = {'N':N, 'engine_size':engine_size_data, 'drag_coeficient':drag_coeficient_data, 'cylinders':cylinders_data},\n",
    "iter_sampling=N,\n",
    "iter_warmup=200,\n",
    "chains=1,\n",
    "seed=29042020,\n",
    "refresh=N)"
   ]
  },
  {
   "cell_type": "code",
   "execution_count": 76,
   "metadata": {},
   "outputs": [
    {
     "data": {
      "text/html": [
       "<div>\n",
       "<style scoped>\n",
       "    .dataframe tbody tr th:only-of-type {\n",
       "        vertical-align: middle;\n",
       "    }\n",
       "\n",
       "    .dataframe tbody tr th {\n",
       "        vertical-align: top;\n",
       "    }\n",
       "\n",
       "    .dataframe thead th {\n",
       "        text-align: right;\n",
       "    }\n",
       "</style>\n",
       "<table border=\"1\" class=\"dataframe\">\n",
       "  <thead>\n",
       "    <tr style=\"text-align: right;\">\n",
       "      <th></th>\n",
       "      <th>lp__</th>\n",
       "      <th>accept_stat__</th>\n",
       "      <th>alpha</th>\n",
       "      <th>beta_engine_size</th>\n",
       "      <th>beta_cylinders</th>\n",
       "      <th>beta_drag_coefficient</th>\n",
       "      <th>sigma</th>\n",
       "      <th>fuel_consumption[1]</th>\n",
       "      <th>fuel_consumption[2]</th>\n",
       "      <th>fuel_consumption[3]</th>\n",
       "      <th>...</th>\n",
       "      <th>fuel_consumption[937]</th>\n",
       "      <th>fuel_consumption[938]</th>\n",
       "      <th>fuel_consumption[939]</th>\n",
       "      <th>fuel_consumption[940]</th>\n",
       "      <th>fuel_consumption[941]</th>\n",
       "      <th>fuel_consumption[942]</th>\n",
       "      <th>fuel_consumption[943]</th>\n",
       "      <th>fuel_consumption[944]</th>\n",
       "      <th>fuel_consumption[945]</th>\n",
       "      <th>fuel_consumption[946]</th>\n",
       "    </tr>\n",
       "  </thead>\n",
       "  <tbody>\n",
       "    <tr>\n",
       "      <th>0</th>\n",
       "      <td>0.0</td>\n",
       "      <td>0.0</td>\n",
       "      <td>27.08170</td>\n",
       "      <td>-12.72270</td>\n",
       "      <td>7.771810</td>\n",
       "      <td>1.27591</td>\n",
       "      <td>0.05289</td>\n",
       "      <td>35.5257</td>\n",
       "      <td>35.5761</td>\n",
       "      <td>35.7218</td>\n",
       "      <td>...</td>\n",
       "      <td>35.4708</td>\n",
       "      <td>35.4220</td>\n",
       "      <td>35.4153</td>\n",
       "      <td>35.4571</td>\n",
       "      <td>35.5879</td>\n",
       "      <td>35.4086</td>\n",
       "      <td>35.4117</td>\n",
       "      <td>50.0523</td>\n",
       "      <td>50.0768</td>\n",
       "      <td>50.0763</td>\n",
       "    </tr>\n",
       "    <tr>\n",
       "      <th>1</th>\n",
       "      <td>0.0</td>\n",
       "      <td>0.0</td>\n",
       "      <td>4.57312</td>\n",
       "      <td>-2.16814</td>\n",
       "      <td>16.126900</td>\n",
       "      <td>-11.10080</td>\n",
       "      <td>15.66230</td>\n",
       "      <td>44.0294</td>\n",
       "      <td>84.2326</td>\n",
       "      <td>40.8572</td>\n",
       "      <td>...</td>\n",
       "      <td>181.2550</td>\n",
       "      <td>177.1120</td>\n",
       "      <td>160.5850</td>\n",
       "      <td>169.1700</td>\n",
       "      <td>163.5050</td>\n",
       "      <td>174.8430</td>\n",
       "      <td>200.3530</td>\n",
       "      <td>207.4890</td>\n",
       "      <td>256.7380</td>\n",
       "      <td>255.9340</td>\n",
       "    </tr>\n",
       "    <tr>\n",
       "      <th>2</th>\n",
       "      <td>0.0</td>\n",
       "      <td>0.0</td>\n",
       "      <td>1.24858</td>\n",
       "      <td>-7.31857</td>\n",
       "      <td>5.837320</td>\n",
       "      <td>10.53750</td>\n",
       "      <td>5.21143</td>\n",
       "      <td>11.9963</td>\n",
       "      <td>11.8939</td>\n",
       "      <td>10.1300</td>\n",
       "      <td>...</td>\n",
       "      <td>20.1934</td>\n",
       "      <td>36.3753</td>\n",
       "      <td>22.9764</td>\n",
       "      <td>28.4737</td>\n",
       "      <td>28.5045</td>\n",
       "      <td>25.8579</td>\n",
       "      <td>24.0048</td>\n",
       "      <td>33.2105</td>\n",
       "      <td>33.9444</td>\n",
       "      <td>38.7702</td>\n",
       "    </tr>\n",
       "    <tr>\n",
       "      <th>3</th>\n",
       "      <td>0.0</td>\n",
       "      <td>0.0</td>\n",
       "      <td>-7.58632</td>\n",
       "      <td>5.13660</td>\n",
       "      <td>6.190190</td>\n",
       "      <td>4.20648</td>\n",
       "      <td>17.76710</td>\n",
       "      <td>20.9525</td>\n",
       "      <td>49.1300</td>\n",
       "      <td>30.8252</td>\n",
       "      <td>...</td>\n",
       "      <td>128.2650</td>\n",
       "      <td>117.0890</td>\n",
       "      <td>115.8680</td>\n",
       "      <td>113.7580</td>\n",
       "      <td>107.0620</td>\n",
       "      <td>100.0980</td>\n",
       "      <td>109.4820</td>\n",
       "      <td>143.1170</td>\n",
       "      <td>124.4300</td>\n",
       "      <td>160.3670</td>\n",
       "    </tr>\n",
       "    <tr>\n",
       "      <th>4</th>\n",
       "      <td>0.0</td>\n",
       "      <td>0.0</td>\n",
       "      <td>-26.70620</td>\n",
       "      <td>-23.46890</td>\n",
       "      <td>-0.636581</td>\n",
       "      <td>3.54059</td>\n",
       "      <td>12.33520</td>\n",
       "      <td>-63.9662</td>\n",
       "      <td>-49.7189</td>\n",
       "      <td>-54.2054</td>\n",
       "      <td>...</td>\n",
       "      <td>-205.4580</td>\n",
       "      <td>-207.7670</td>\n",
       "      <td>-202.5030</td>\n",
       "      <td>-196.7720</td>\n",
       "      <td>-191.9640</td>\n",
       "      <td>-171.6360</td>\n",
       "      <td>-175.6110</td>\n",
       "      <td>-237.1190</td>\n",
       "      <td>-235.8610</td>\n",
       "      <td>-220.9960</td>\n",
       "    </tr>\n",
       "  </tbody>\n",
       "</table>\n",
       "<p>5 rows × 953 columns</p>\n",
       "</div>"
      ],
      "text/plain": [
       "   lp__  accept_stat__     alpha  beta_engine_size  beta_cylinders  \\\n",
       "0   0.0            0.0  27.08170         -12.72270        7.771810   \n",
       "1   0.0            0.0   4.57312          -2.16814       16.126900   \n",
       "2   0.0            0.0   1.24858          -7.31857        5.837320   \n",
       "3   0.0            0.0  -7.58632           5.13660        6.190190   \n",
       "4   0.0            0.0 -26.70620         -23.46890       -0.636581   \n",
       "\n",
       "   beta_drag_coefficient     sigma  fuel_consumption[1]  fuel_consumption[2]  \\\n",
       "0                1.27591   0.05289              35.5257              35.5761   \n",
       "1              -11.10080  15.66230              44.0294              84.2326   \n",
       "2               10.53750   5.21143              11.9963              11.8939   \n",
       "3                4.20648  17.76710              20.9525              49.1300   \n",
       "4                3.54059  12.33520             -63.9662             -49.7189   \n",
       "\n",
       "   fuel_consumption[3]  ...  fuel_consumption[937]  fuel_consumption[938]  \\\n",
       "0              35.7218  ...                35.4708                35.4220   \n",
       "1              40.8572  ...               181.2550               177.1120   \n",
       "2              10.1300  ...                20.1934                36.3753   \n",
       "3              30.8252  ...               128.2650               117.0890   \n",
       "4             -54.2054  ...              -205.4580              -207.7670   \n",
       "\n",
       "   fuel_consumption[939]  fuel_consumption[940]  fuel_consumption[941]  \\\n",
       "0                35.4153                35.4571                35.5879   \n",
       "1               160.5850               169.1700               163.5050   \n",
       "2                22.9764                28.4737                28.5045   \n",
       "3               115.8680               113.7580               107.0620   \n",
       "4              -202.5030              -196.7720              -191.9640   \n",
       "\n",
       "   fuel_consumption[942]  fuel_consumption[943]  fuel_consumption[944]  \\\n",
       "0                35.4086                35.4117                50.0523   \n",
       "1               174.8430               200.3530               207.4890   \n",
       "2                25.8579                24.0048                33.2105   \n",
       "3               100.0980               109.4820               143.1170   \n",
       "4              -171.6360              -175.6110              -237.1190   \n",
       "\n",
       "   fuel_consumption[945]  fuel_consumption[946]  \n",
       "0                50.0768                50.0763  \n",
       "1               256.7380               255.9340  \n",
       "2                33.9444                38.7702  \n",
       "3               124.4300               160.3670  \n",
       "4              -235.8610              -220.9960  \n",
       "\n",
       "[5 rows x 953 columns]"
      ]
     },
     "execution_count": 76,
     "metadata": {},
     "output_type": "execute_result"
    }
   ],
   "source": [
    "dataFrame_model_2_prior = samples_2_prior.draws_pd()\n",
    "dataFrame_model_2_prior.head()\n"
   ]
  },
  {
   "cell_type": "code",
   "execution_count": 77,
   "metadata": {},
   "outputs": [],
   "source": [
    "list = []\n",
    "for i in range(1,N):\n",
    "    val = dataFrame_model_2_prior['fuel_consumption[' + str(i)+ ']'].mean()\n",
    "    list.append(val)\n"
   ]
  },
  {
   "cell_type": "code",
   "execution_count": 78,
   "metadata": {},
   "outputs": [
    {
     "data": {
      "text/plain": [
       "(array([  1.,   0.,   1.,   0.,   0.,   0.,   4.,   5.,   5.,   3.,   1.,\n",
       "          2.,   5.,  15.,  29.,  49.,  49.,  49.,  41.,  57.,  59.,  85.,\n",
       "         67.,  82.,  90., 116.,  78.,  35.,  10.,   7.]),\n",
       " array([-6.43743823, -6.24989948, -6.06236072, -5.87482197, -5.68728322,\n",
       "        -5.49974447, -5.31220572, -5.12466697, -4.93712822, -4.74958947,\n",
       "        -4.56205072, -4.37451197, -4.18697321, -3.99943446, -3.81189571,\n",
       "        -3.62435696, -3.43681821, -3.24927946, -3.06174071, -2.87420196,\n",
       "        -2.68666321, -2.49912446, -2.3115857 , -2.12404695, -1.9365082 ,\n",
       "        -1.74896945, -1.5614307 , -1.37389195, -1.1863532 , -0.99881445,\n",
       "        -0.8112757 ]),\n",
       " <BarContainer object of 30 artists>)"
      ]
     },
     "execution_count": 78,
     "metadata": {},
     "output_type": "execute_result"
    },
    {
     "data": {
      "image/png": "[encoded data removed]",
      "text/plain": [
       "<Figure size 432x288 with 1 Axes>"
      ]
     },
     "metadata": {
      "needs_background": "light"
     },
     "output_type": "display_data"
    }
   ],
   "source": [
    "plt.hist(list,bins=30)"
   ]
  }
 ],
 "metadata": {
  "kernelspec": {
   "display_name": "Python 3",
   "language": "python",
   "name": "python3"
  },
  "language_info": {
   "codemirror_mode": {
    "name": "ipython",
    "version": 3
   },
   "file_extension": ".py",
   "mimetype": "text/x-python",
   "name": "python",
   "nbconvert_exporter": "python",
   "pygments_lexer": "ipython3",
   "version": "3.12.2"
  }
 },
 "nbformat": 4,
 "nbformat_minor": 2
}
