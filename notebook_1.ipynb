{
 "cells": [
  {
   "cell_type": "markdown",
   "metadata": {},
   "source": [
    "Imports sraty pierdaty\n"
   ]
  },
  {
   "cell_type": "code",
   "execution_count": 2,
   "metadata": {},
   "outputs": [
    {
     "name": "stderr",
     "output_type": "stream",
     "text": [
      "/usr/local/lib/python3.12/site-packages/tqdm/auto.py:22: TqdmWarning: IProgress not found. Please update jupyter and ipywidgets. See https://ipywidgets.readthedocs.io/en/stable/user_install.html\n",
      "  from .autonotebook import tqdm as notebook_tqdm\n"
     ]
    }
   ],
   "source": [
    "from cmdstanpy import CmdStanModel\n",
    "\n",
    "import arviz as az\n",
    "import numpy as np\n",
    "import scipy.stats as stats\n",
    "\n",
    "import matplotlib.pyplot as plt\n",
    "import pandas as pd\n",
    "import random as rd"
   ]
  },
  {
   "cell_type": "code",
   "execution_count": 3,
   "metadata": {},
   "outputs": [
    {
     "data": {
      "text/html": [
       "<div>\n",
       "<style scoped>\n",
       "    .dataframe tbody tr th:only-of-type {\n",
       "        vertical-align: middle;\n",
       "    }\n",
       "\n",
       "    .dataframe tbody tr th {\n",
       "        vertical-align: top;\n",
       "    }\n",
       "\n",
       "    .dataframe thead th {\n",
       "        text-align: right;\n",
       "    }\n",
       "</style>\n",
       "<table border=\"1\" class=\"dataframe\">\n",
       "  <thead>\n",
       "    <tr style=\"text-align: right;\">\n",
       "      <th></th>\n",
       "      <th>Unnamed: 0</th>\n",
       "      <th>Make</th>\n",
       "      <th>Model</th>\n",
       "      <th>Engine Size(L)</th>\n",
       "      <th>Cylinders</th>\n",
       "      <th>Fuel Consumption(Hwy (L/100 km))</th>\n",
       "      <th>Drag coefficient</th>\n",
       "    </tr>\n",
       "  </thead>\n",
       "  <tbody>\n",
       "    <tr>\n",
       "      <th>0</th>\n",
       "      <td>0</td>\n",
       "      <td>Acura</td>\n",
       "      <td>ILX</td>\n",
       "      <td>2.4</td>\n",
       "      <td>4</td>\n",
       "      <td>7.0</td>\n",
       "      <td>0.30</td>\n",
       "    </tr>\n",
       "    <tr>\n",
       "      <th>1</th>\n",
       "      <td>1</td>\n",
       "      <td>Acura</td>\n",
       "      <td>MDX SH-AWD</td>\n",
       "      <td>3.5</td>\n",
       "      <td>6</td>\n",
       "      <td>9.4</td>\n",
       "      <td>0.37</td>\n",
       "    </tr>\n",
       "    <tr>\n",
       "      <th>2</th>\n",
       "      <td>2</td>\n",
       "      <td>Acura</td>\n",
       "      <td>RDX SH-AWD</td>\n",
       "      <td>2.0</td>\n",
       "      <td>4</td>\n",
       "      <td>8.6</td>\n",
       "      <td>0.37</td>\n",
       "    </tr>\n",
       "    <tr>\n",
       "      <th>3</th>\n",
       "      <td>3</td>\n",
       "      <td>Acura</td>\n",
       "      <td>RDX SH-AWD A-SPEC</td>\n",
       "      <td>2.0</td>\n",
       "      <td>4</td>\n",
       "      <td>9.1</td>\n",
       "      <td>0.37</td>\n",
       "    </tr>\n",
       "    <tr>\n",
       "      <th>4</th>\n",
       "      <td>4</td>\n",
       "      <td>Acura</td>\n",
       "      <td>TLX SH-AWD</td>\n",
       "      <td>2.0</td>\n",
       "      <td>4</td>\n",
       "      <td>8.0</td>\n",
       "      <td>0.30</td>\n",
       "    </tr>\n",
       "  </tbody>\n",
       "</table>\n",
       "</div>"
      ],
      "text/plain": [
       "   Unnamed: 0   Make              Model  Engine Size(L)  Cylinders  \\\n",
       "0           0  Acura                ILX             2.4          4   \n",
       "1           1  Acura         MDX SH-AWD             3.5          6   \n",
       "2           2  Acura         RDX SH-AWD             2.0          4   \n",
       "3           3  Acura  RDX SH-AWD A-SPEC             2.0          4   \n",
       "4           4  Acura         TLX SH-AWD             2.0          4   \n",
       "\n",
       "   Fuel Consumption(Hwy (L/100 km))  Drag coefficient  \n",
       "0                               7.0              0.30  \n",
       "1                               9.4              0.37  \n",
       "2                               8.6              0.37  \n",
       "3                               9.1              0.37  \n",
       "4                               8.0              0.30  "
      ]
     },
     "execution_count": 3,
     "metadata": {},
     "output_type": "execute_result"
    }
   ],
   "source": [
    "X = 1000\n",
    "dataFrame = pd.read_csv(\"Data/processed_dataset.csv\")\n",
    "dataFrame.head()"
   ]
  },
  {
   "cell_type": "code",
   "execution_count": 4,
   "metadata": {},
   "outputs": [
    {
     "name": "stdout",
     "output_type": "stream",
     "text": [
      "Unnamed: 0                            int64\n",
      "Make                                 object\n",
      "Model                                object\n",
      "Engine Size(L)                      float64\n",
      "Cylinders                             int64\n",
      "Fuel Consumption(Hwy (L/100 km))    float64\n",
      "Drag coefficient                    float64\n",
      "dtype: object\n"
     ]
    }
   ],
   "source": [
    "dataFrame = dataFrame.sort_values(by ='Engine Size(L)')\n",
    "print(dataFrame.dtypes)"
   ]
  },
  {
   "cell_type": "code",
   "execution_count": 5,
   "metadata": {},
   "outputs": [
    {
     "data": {
      "image/png": "[encoded data removed]",
      "text/plain": [
       "<Figure size 720x720 with 1 Axes>"
      ]
     },
     "metadata": {
      "needs_background": "light"
     },
     "output_type": "display_data"
    }
   ],
   "source": [
    "plt.figure(0,figsize=(10,10))\n",
    "plt.scatter(dataFrame['Engine Size(L)'], dataFrame['Fuel Consumption(Hwy (L/100 km))'],alpha=0.7,marker='o')\n",
    "plt.xlabel('Engine size')\n",
    "plt.ylabel('Fuel consumption')\n",
    "plt.show()"
   ]
  },
  {
   "cell_type": "code",
   "execution_count": 6,
   "metadata": {},
   "outputs": [
    {
     "data": {
      "image/png": "[encoded data removed]",
      "text/plain": [
       "<Figure size 432x288 with 1 Axes>"
      ]
     },
     "metadata": {
      "needs_background": "light"
     },
     "output_type": "display_data"
    }
   ],
   "source": [
    "plt.hist(dataFrame[\"Fuel Consumption(Hwy (L/100 km))\"],bins=30)\n",
    "plt.show()"
   ]
  },
  {
   "cell_type": "code",
   "execution_count": 7,
   "metadata": {},
   "outputs": [],
   "source": [
    "N = dataFrame.shape[0]\n",
    "engine_size_data = dataFrame['Engine Size(L)']\n",
    "cylinders_data = dataFrame['Cylinders']\n",
    "drag_coeficient_data = dataFrame['Drag coefficient']\n",
    "fuel_consumption_data = dataFrame['Fuel Consumption(Hwy (L/100 km))']"
   ]
  },
  {
   "cell_type": "code",
   "execution_count": 8,
   "metadata": {},
   "outputs": [
    {
     "name": "stderr",
     "output_type": "stream",
     "text": [
      "INFO:cmdstanpy:found newer exe file, not recompiling\n"
     ]
    }
   ],
   "source": [
    "model_1_prior=CmdStanModel(stan_file='Stan_files/model_1_prior.stan')"
   ]
  },
  {
   "cell_type": "code",
   "execution_count": 9,
   "metadata": {},
   "outputs": [
    {
     "name": "stderr",
     "output_type": "stream",
     "text": [
      "INFO:cmdstanpy:CmdStan start processing\n",
      "chain 1 |\u001b[34m██████████\u001b[0m| 00:02 Sampling completed                        "
     ]
    },
    {
     "name": "stdout",
     "output_type": "stream",
     "text": [
      "                                                                                "
     ]
    },
    {
     "name": "stderr",
     "output_type": "stream",
     "text": [
      "\n",
      "INFO:cmdstanpy:CmdStan done processing.\n"
     ]
    },
    {
     "name": "stdout",
     "output_type": "stream",
     "text": [
      "\n"
     ]
    }
   ],
   "source": [
    "samples_1_prior = model_1_prior.sample(data = {'N':N, 'engine_size':engine_size_data, 'drag_coeficient':drag_coeficient_data},\n",
    "iter_sampling=X,\n",
    "iter_warmup=2000,\n",
    "chains=1,\n",
    "seed=29042020,\n",
    "refresh=N)"
   ]
  },
  {
   "cell_type": "code",
   "execution_count": 10,
   "metadata": {},
   "outputs": [
    {
     "data": {
      "text/html": [
       "<div>\n",
       "<style scoped>\n",
       "    .dataframe tbody tr th:only-of-type {\n",
       "        vertical-align: middle;\n",
       "    }\n",
       "\n",
       "    .dataframe tbody tr th {\n",
       "        vertical-align: top;\n",
       "    }\n",
       "\n",
       "    .dataframe thead th {\n",
       "        text-align: right;\n",
       "    }\n",
       "</style>\n",
       "<table border=\"1\" class=\"dataframe\">\n",
       "  <thead>\n",
       "    <tr style=\"text-align: right;\">\n",
       "      <th></th>\n",
       "      <th>lp__</th>\n",
       "      <th>accept_stat__</th>\n",
       "      <th>alpha</th>\n",
       "      <th>beta_engine_size</th>\n",
       "      <th>beta_drag_coeficient</th>\n",
       "      <th>sigma</th>\n",
       "      <th>fuel_consumption[1]</th>\n",
       "      <th>fuel_consumption[2]</th>\n",
       "      <th>fuel_consumption[3]</th>\n",
       "      <th>fuel_consumption[4]</th>\n",
       "      <th>...</th>\n",
       "      <th>fuel_consumption[937]</th>\n",
       "      <th>fuel_consumption[938]</th>\n",
       "      <th>fuel_consumption[939]</th>\n",
       "      <th>fuel_consumption[940]</th>\n",
       "      <th>fuel_consumption[941]</th>\n",
       "      <th>fuel_consumption[942]</th>\n",
       "      <th>fuel_consumption[943]</th>\n",
       "      <th>fuel_consumption[944]</th>\n",
       "      <th>fuel_consumption[945]</th>\n",
       "      <th>fuel_consumption[946]</th>\n",
       "    </tr>\n",
       "  </thead>\n",
       "  <tbody>\n",
       "    <tr>\n",
       "      <th>0</th>\n",
       "      <td>0.0</td>\n",
       "      <td>0.0</td>\n",
       "      <td>16.62450</td>\n",
       "      <td>0.777181</td>\n",
       "      <td>-1.272270</td>\n",
       "      <td>2.12759</td>\n",
       "      <td>14.219300</td>\n",
       "      <td>17.69920</td>\n",
       "      <td>19.63680</td>\n",
       "      <td>21.90610</td>\n",
       "      <td>...</td>\n",
       "      <td>20.406100</td>\n",
       "      <td>18.83970</td>\n",
       "      <td>18.16190</td>\n",
       "      <td>17.89070</td>\n",
       "      <td>19.540900</td>\n",
       "      <td>23.55080</td>\n",
       "      <td>17.61950</td>\n",
       "      <td>18.74150</td>\n",
       "      <td>21.96760</td>\n",
       "      <td>22.95120</td>\n",
       "    </tr>\n",
       "    <tr>\n",
       "      <th>1</th>\n",
       "      <td>0.0</td>\n",
       "      <td>0.0</td>\n",
       "      <td>9.20844</td>\n",
       "      <td>0.457312</td>\n",
       "      <td>1.612690</td>\n",
       "      <td>1.78319</td>\n",
       "      <td>8.261550</td>\n",
       "      <td>13.33030</td>\n",
       "      <td>10.01320</td>\n",
       "      <td>14.59050</td>\n",
       "      <td>...</td>\n",
       "      <td>13.265400</td>\n",
       "      <td>11.93500</td>\n",
       "      <td>12.94670</td>\n",
       "      <td>12.44340</td>\n",
       "      <td>10.602100</td>\n",
       "      <td>11.53920</td>\n",
       "      <td>10.92580</td>\n",
       "      <td>12.79570</td>\n",
       "      <td>15.70010</td>\n",
       "      <td>9.50178</td>\n",
       "    </tr>\n",
       "    <tr>\n",
       "      <th>2</th>\n",
       "      <td>0.0</td>\n",
       "      <td>0.0</td>\n",
       "      <td>11.39010</td>\n",
       "      <td>0.912026</td>\n",
       "      <td>0.124858</td>\n",
       "      <td>2.58373</td>\n",
       "      <td>10.631000</td>\n",
       "      <td>15.24460</td>\n",
       "      <td>11.60650</td>\n",
       "      <td>11.96390</td>\n",
       "      <td>...</td>\n",
       "      <td>15.706100</td>\n",
       "      <td>21.72380</td>\n",
       "      <td>11.22340</td>\n",
       "      <td>14.73820</td>\n",
       "      <td>22.894600</td>\n",
       "      <td>16.24850</td>\n",
       "      <td>18.97400</td>\n",
       "      <td>20.04550</td>\n",
       "      <td>18.86400</td>\n",
       "      <td>17.94530</td>\n",
       "    </tr>\n",
       "    <tr>\n",
       "      <th>3</th>\n",
       "      <td>0.0</td>\n",
       "      <td>0.0</td>\n",
       "      <td>4.86689</td>\n",
       "      <td>-1.070230</td>\n",
       "      <td>-0.144217</td>\n",
       "      <td>1.24137</td>\n",
       "      <td>4.307780</td>\n",
       "      <td>4.17699</td>\n",
       "      <td>4.05143</td>\n",
       "      <td>6.20245</td>\n",
       "      <td>...</td>\n",
       "      <td>-0.215623</td>\n",
       "      <td>-1.59657</td>\n",
       "      <td>-2.81835</td>\n",
       "      <td>-1.64551</td>\n",
       "      <td>-0.555411</td>\n",
       "      <td>-1.32529</td>\n",
       "      <td>-1.41059</td>\n",
       "      <td>-2.95079</td>\n",
       "      <td>-3.42595</td>\n",
       "      <td>-3.90517</td>\n",
       "    </tr>\n",
       "    <tr>\n",
       "      <th>4</th>\n",
       "      <td>0.0</td>\n",
       "      <td>0.0</td>\n",
       "      <td>9.68974</td>\n",
       "      <td>0.517820</td>\n",
       "      <td>-0.533935</td>\n",
       "      <td>3.48873</td>\n",
       "      <td>0.833877</td>\n",
       "      <td>9.92886</td>\n",
       "      <td>1.92590</td>\n",
       "      <td>11.34880</td>\n",
       "      <td>...</td>\n",
       "      <td>11.033600</td>\n",
       "      <td>8.47153</td>\n",
       "      <td>12.38590</td>\n",
       "      <td>15.48150</td>\n",
       "      <td>11.702000</td>\n",
       "      <td>8.72725</td>\n",
       "      <td>8.09934</td>\n",
       "      <td>10.25610</td>\n",
       "      <td>11.87680</td>\n",
       "      <td>13.21150</td>\n",
       "    </tr>\n",
       "  </tbody>\n",
       "</table>\n",
       "<p>5 rows × 952 columns</p>\n",
       "</div>"
      ],
      "text/plain": [
       "   lp__  accept_stat__     alpha  beta_engine_size  beta_drag_coeficient  \\\n",
       "0   0.0            0.0  16.62450          0.777181             -1.272270   \n",
       "1   0.0            0.0   9.20844          0.457312              1.612690   \n",
       "2   0.0            0.0  11.39010          0.912026              0.124858   \n",
       "3   0.0            0.0   4.86689         -1.070230             -0.144217   \n",
       "4   0.0            0.0   9.68974          0.517820             -0.533935   \n",
       "\n",
       "     sigma  fuel_consumption[1]  fuel_consumption[2]  fuel_consumption[3]  \\\n",
       "0  2.12759            14.219300             17.69920             19.63680   \n",
       "1  1.78319             8.261550             13.33030             10.01320   \n",
       "2  2.58373            10.631000             15.24460             11.60650   \n",
       "3  1.24137             4.307780              4.17699              4.05143   \n",
       "4  3.48873             0.833877              9.92886              1.92590   \n",
       "\n",
       "   fuel_consumption[4]  ...  fuel_consumption[937]  fuel_consumption[938]  \\\n",
       "0             21.90610  ...              20.406100               18.83970   \n",
       "1             14.59050  ...              13.265400               11.93500   \n",
       "2             11.96390  ...              15.706100               21.72380   \n",
       "3              6.20245  ...              -0.215623               -1.59657   \n",
       "4             11.34880  ...              11.033600                8.47153   \n",
       "\n",
       "   fuel_consumption[939]  fuel_consumption[940]  fuel_consumption[941]  \\\n",
       "0               18.16190               17.89070              19.540900   \n",
       "1               12.94670               12.44340              10.602100   \n",
       "2               11.22340               14.73820              22.894600   \n",
       "3               -2.81835               -1.64551              -0.555411   \n",
       "4               12.38590               15.48150              11.702000   \n",
       "\n",
       "   fuel_consumption[942]  fuel_consumption[943]  fuel_consumption[944]  \\\n",
       "0               23.55080               17.61950               18.74150   \n",
       "1               11.53920               10.92580               12.79570   \n",
       "2               16.24850               18.97400               20.04550   \n",
       "3               -1.32529               -1.41059               -2.95079   \n",
       "4                8.72725                8.09934               10.25610   \n",
       "\n",
       "   fuel_consumption[945]  fuel_consumption[946]  \n",
       "0               21.96760               22.95120  \n",
       "1               15.70010                9.50178  \n",
       "2               18.86400               17.94530  \n",
       "3               -3.42595               -3.90517  \n",
       "4               11.87680               13.21150  \n",
       "\n",
       "[5 rows x 952 columns]"
      ]
     },
     "execution_count": 10,
     "metadata": {},
     "output_type": "execute_result"
    }
   ],
   "source": [
    "dataFrame_model_1_prior = samples_1_prior.draws_pd()\n",
    "dataFrame_model_1_prior.head()\n"
   ]
  },
  {
   "cell_type": "code",
   "execution_count": 11,
   "metadata": {},
   "outputs": [
    {
     "data": {
      "text/plain": [
       "8.433656723712604"
      ]
     },
     "execution_count": 11,
     "metadata": {},
     "output_type": "execute_result"
    }
   ],
   "source": [
    "list = []\n",
    "for i in range(1,N):\n",
    "    val = dataFrame_model_1_prior['fuel_consumption[' + str(i)+ ']'].mean()\n",
    "    list.append(val)\n",
    "\n",
    "max(list)\n",
    "min(list)\n"
   ]
  },
  {
   "cell_type": "code",
   "execution_count": 12,
   "metadata": {},
   "outputs": [],
   "source": [
    "#  test = dataFrame_model_1_prior.mean()\n",
    "#  list = []\n",
    "# for i in range(1,N):\n",
    "#     val = dataFrame_model_1_prior['fuel_consumption[' + str(i)+ ']']\n",
    "#     list.append(val)\n",
    "\n",
    "\n"
   ]
  },
  {
   "cell_type": "code",
   "execution_count": 13,
   "metadata": {},
   "outputs": [
    {
     "data": {
      "text/plain": [
       "(array([ 1.,  2.,  4.,  8.,  9., 19., 22., 30., 38., 49., 54., 62., 72.,\n",
       "        86., 84., 83., 79., 49., 58., 34., 33., 19., 26., 13.,  3.,  2.,\n",
       "         3.,  2.,  0.,  1.]),\n",
       " array([8.43365672, 8.43856692, 8.44347712, 8.44838731, 8.45329751,\n",
       "        8.4582077 , 8.4631179 , 8.4680281 , 8.47293829, 8.47784849,\n",
       "        8.48275868, 8.48766888, 8.49257908, 8.49748927, 8.50239947,\n",
       "        8.50730967, 8.51221986, 8.51713006, 8.52204025, 8.52695045,\n",
       "        8.53186065, 8.53677084, 8.54168104, 8.54659123, 8.55150143,\n",
       "        8.55641163, 8.56132182, 8.56623202, 8.57114222, 8.57605241,\n",
       "        8.58096261]),\n",
       " <BarContainer object of 30 artists>)"
      ]
     },
     "execution_count": 13,
     "metadata": {},
     "output_type": "execute_result"
    },
    {
     "data": {
      "image/png": "[encoded data removed]",
      "text/plain": [
       "<Figure size 432x288 with 1 Axes>"
      ]
     },
     "metadata": {
      "needs_background": "light"
     },
     "output_type": "display_data"
    }
   ],
   "source": [
    "plt.hist(dataFrame[\"Fuel Consumption(Hwy (L/100 km))\"],bins=30, alpha=0.5)\n",
    "plt.hist(list,bins=30)\n"
   ]
  },
  {
   "cell_type": "code",
   "execution_count": 14,
   "metadata": {},
   "outputs": [
    {
     "name": "stderr",
     "output_type": "stream",
     "text": [
      "INFO:cmdstanpy:found newer exe file, not recompiling\n"
     ]
    }
   ],
   "source": [
    "model_1_post=CmdStanModel(stan_file='Stan_files/model_1_post.stan')"
   ]
  },
  {
   "cell_type": "code",
   "execution_count": 15,
   "metadata": {},
   "outputs": [
    {
     "name": "stderr",
     "output_type": "stream",
     "text": [
      "INFO:cmdstanpy:CmdStan start processing\n",
      "chain 1 |\u001b[34m██████████\u001b[0m| 00:18 Sampling completed                         "
     ]
    },
    {
     "name": "stdout",
     "output_type": "stream",
     "text": [
      "                                                                                "
     ]
    },
    {
     "name": "stderr",
     "output_type": "stream",
     "text": [
      "\n",
      "INFO:cmdstanpy:CmdStan done processing.\n"
     ]
    },
    {
     "name": "stdout",
     "output_type": "stream",
     "text": [
      "\n"
     ]
    }
   ],
   "source": [
    "samples_1_post = model_1_post.sample(data = {'N':N, 'engine_size':engine_size_data, 'drag_coeficient':drag_coeficient_data, 'cylinders':cylinders_data, 'fuel_consumption':fuel_consumption_data},\n",
    "iter_sampling=X,\n",
    "iter_warmup=200,\n",
    "chains=1,\n",
    "seed=29042020,\n",
    "refresh=N)"
   ]
  },
  {
   "cell_type": "code",
   "execution_count": 16,
   "metadata": {},
   "outputs": [
    {
     "data": {
      "text/html": [
       "<div>\n",
       "<style scoped>\n",
       "    .dataframe tbody tr th:only-of-type {\n",
       "        vertical-align: middle;\n",
       "    }\n",
       "\n",
       "    .dataframe tbody tr th {\n",
       "        vertical-align: top;\n",
       "    }\n",
       "\n",
       "    .dataframe thead th {\n",
       "        text-align: right;\n",
       "    }\n",
       "</style>\n",
       "<table border=\"1\" class=\"dataframe\">\n",
       "  <thead>\n",
       "    <tr style=\"text-align: right;\">\n",
       "      <th></th>\n",
       "      <th>lp__</th>\n",
       "      <th>accept_stat__</th>\n",
       "      <th>stepsize__</th>\n",
       "      <th>treedepth__</th>\n",
       "      <th>n_leapfrog__</th>\n",
       "      <th>divergent__</th>\n",
       "      <th>energy__</th>\n",
       "      <th>alpha</th>\n",
       "      <th>beta_engine_size</th>\n",
       "      <th>beta_drag_coeficient</th>\n",
       "      <th>...</th>\n",
       "      <th>log_lik[937]</th>\n",
       "      <th>log_lik[938]</th>\n",
       "      <th>log_lik[939]</th>\n",
       "      <th>log_lik[940]</th>\n",
       "      <th>log_lik[941]</th>\n",
       "      <th>log_lik[942]</th>\n",
       "      <th>log_lik[943]</th>\n",
       "      <th>log_lik[944]</th>\n",
       "      <th>log_lik[945]</th>\n",
       "      <th>log_lik[946]</th>\n",
       "    </tr>\n",
       "  </thead>\n",
       "  <tbody>\n",
       "    <tr>\n",
       "      <th>0</th>\n",
       "      <td>-824.288</td>\n",
       "      <td>0.923105</td>\n",
       "      <td>0.124811</td>\n",
       "      <td>5.0</td>\n",
       "      <td>31.0</td>\n",
       "      <td>0.0</td>\n",
       "      <td>825.315</td>\n",
       "      <td>2.52226</td>\n",
       "      <td>1.16566</td>\n",
       "      <td>8.65204</td>\n",
       "      <td>...</td>\n",
       "      <td>-1.60873</td>\n",
       "      <td>-1.29364</td>\n",
       "      <td>-1.29364</td>\n",
       "      <td>-1.29364</td>\n",
       "      <td>-1.60873</td>\n",
       "      <td>-1.66003</td>\n",
       "      <td>-1.66003</td>\n",
       "      <td>-11.0778</td>\n",
       "      <td>-2.21062</td>\n",
       "      <td>-11.0778</td>\n",
       "    </tr>\n",
       "    <tr>\n",
       "      <th>1</th>\n",
       "      <td>-826.125</td>\n",
       "      <td>0.995994</td>\n",
       "      <td>0.124811</td>\n",
       "      <td>4.0</td>\n",
       "      <td>15.0</td>\n",
       "      <td>0.0</td>\n",
       "      <td>826.642</td>\n",
       "      <td>2.31912</td>\n",
       "      <td>1.19302</td>\n",
       "      <td>9.01978</td>\n",
       "      <td>...</td>\n",
       "      <td>-1.67186</td>\n",
       "      <td>-1.30287</td>\n",
       "      <td>-1.30287</td>\n",
       "      <td>-1.30287</td>\n",
       "      <td>-1.67186</td>\n",
       "      <td>-1.72246</td>\n",
       "      <td>-1.72246</td>\n",
       "      <td>-10.8661</td>\n",
       "      <td>-2.09060</td>\n",
       "      <td>-10.8661</td>\n",
       "    </tr>\n",
       "    <tr>\n",
       "      <th>2</th>\n",
       "      <td>-823.741</td>\n",
       "      <td>0.999437</td>\n",
       "      <td>0.124811</td>\n",
       "      <td>5.0</td>\n",
       "      <td>31.0</td>\n",
       "      <td>0.0</td>\n",
       "      <td>827.745</td>\n",
       "      <td>2.93577</td>\n",
       "      <td>1.10952</td>\n",
       "      <td>8.01136</td>\n",
       "      <td>...</td>\n",
       "      <td>-1.49845</td>\n",
       "      <td>-1.24740</td>\n",
       "      <td>-1.24740</td>\n",
       "      <td>-1.24740</td>\n",
       "      <td>-1.49845</td>\n",
       "      <td>-1.55346</td>\n",
       "      <td>-1.55346</td>\n",
       "      <td>-12.3542</td>\n",
       "      <td>-2.49906</td>\n",
       "      <td>-12.3542</td>\n",
       "    </tr>\n",
       "    <tr>\n",
       "      <th>3</th>\n",
       "      <td>-824.089</td>\n",
       "      <td>0.920823</td>\n",
       "      <td>0.124811</td>\n",
       "      <td>3.0</td>\n",
       "      <td>7.0</td>\n",
       "      <td>0.0</td>\n",
       "      <td>824.396</td>\n",
       "      <td>2.91990</td>\n",
       "      <td>1.11037</td>\n",
       "      <td>8.16847</td>\n",
       "      <td>...</td>\n",
       "      <td>-1.52205</td>\n",
       "      <td>-1.25266</td>\n",
       "      <td>-1.25266</td>\n",
       "      <td>-1.25266</td>\n",
       "      <td>-1.52205</td>\n",
       "      <td>-1.57689</td>\n",
       "      <td>-1.57689</td>\n",
       "      <td>-12.1927</td>\n",
       "      <td>-2.44976</td>\n",
       "      <td>-12.1927</td>\n",
       "    </tr>\n",
       "    <tr>\n",
       "      <th>4</th>\n",
       "      <td>-822.865</td>\n",
       "      <td>0.987827</td>\n",
       "      <td>0.124811</td>\n",
       "      <td>4.0</td>\n",
       "      <td>15.0</td>\n",
       "      <td>0.0</td>\n",
       "      <td>824.324</td>\n",
       "      <td>2.91499</td>\n",
       "      <td>1.12437</td>\n",
       "      <td>7.97157</td>\n",
       "      <td>...</td>\n",
       "      <td>-1.54129</td>\n",
       "      <td>-1.27257</td>\n",
       "      <td>-1.27257</td>\n",
       "      <td>-1.27257</td>\n",
       "      <td>-1.54129</td>\n",
       "      <td>-1.59827</td>\n",
       "      <td>-1.59827</td>\n",
       "      <td>-11.7019</td>\n",
       "      <td>-2.37964</td>\n",
       "      <td>-11.7019</td>\n",
       "    </tr>\n",
       "  </tbody>\n",
       "</table>\n",
       "<p>5 rows × 1903 columns</p>\n",
       "</div>"
      ],
      "text/plain": [
       "      lp__  accept_stat__  stepsize__  treedepth__  n_leapfrog__  divergent__  \\\n",
       "0 -824.288       0.923105    0.124811          5.0          31.0          0.0   \n",
       "1 -826.125       0.995994    0.124811          4.0          15.0          0.0   \n",
       "2 -823.741       0.999437    0.124811          5.0          31.0          0.0   \n",
       "3 -824.089       0.920823    0.124811          3.0           7.0          0.0   \n",
       "4 -822.865       0.987827    0.124811          4.0          15.0          0.0   \n",
       "\n",
       "   energy__    alpha  beta_engine_size  beta_drag_coeficient  ...  \\\n",
       "0   825.315  2.52226           1.16566               8.65204  ...   \n",
       "1   826.642  2.31912           1.19302               9.01978  ...   \n",
       "2   827.745  2.93577           1.10952               8.01136  ...   \n",
       "3   824.396  2.91990           1.11037               8.16847  ...   \n",
       "4   824.324  2.91499           1.12437               7.97157  ...   \n",
       "\n",
       "   log_lik[937]  log_lik[938]  log_lik[939]  log_lik[940]  log_lik[941]  \\\n",
       "0      -1.60873      -1.29364      -1.29364      -1.29364      -1.60873   \n",
       "1      -1.67186      -1.30287      -1.30287      -1.30287      -1.67186   \n",
       "2      -1.49845      -1.24740      -1.24740      -1.24740      -1.49845   \n",
       "3      -1.52205      -1.25266      -1.25266      -1.25266      -1.52205   \n",
       "4      -1.54129      -1.27257      -1.27257      -1.27257      -1.54129   \n",
       "\n",
       "   log_lik[942]  log_lik[943]  log_lik[944]  log_lik[945]  log_lik[946]  \n",
       "0      -1.66003      -1.66003      -11.0778      -2.21062      -11.0778  \n",
       "1      -1.72246      -1.72246      -10.8661      -2.09060      -10.8661  \n",
       "2      -1.55346      -1.55346      -12.3542      -2.49906      -12.3542  \n",
       "3      -1.57689      -1.57689      -12.1927      -2.44976      -12.1927  \n",
       "4      -1.59827      -1.59827      -11.7019      -2.37964      -11.7019  \n",
       "\n",
       "[5 rows x 1903 columns]"
      ]
     },
     "execution_count": 16,
     "metadata": {},
     "output_type": "execute_result"
    }
   ],
   "source": [
    "dataFrame_model_1_post = samples_1_post.draws_pd()\n",
    "dataFrame_model_1_post.head()\n"
   ]
  },
  {
   "cell_type": "code",
   "execution_count": 17,
   "metadata": {},
   "outputs": [],
   "source": [
    "list = []\n",
    "for i in range(1,N):\n",
    "    val = dataFrame_model_1_post['y_out[' + str(i)+ ']'].mean()\n",
    "    list.append(val)\n"
   ]
  },
  {
   "cell_type": "code",
   "execution_count": 18,
   "metadata": {},
   "outputs": [
    {
     "data": {
      "text/plain": [
       "(array([  3.,   9.,   3.,  22.,  64.,  62., 100., 106.,  68., 100., 111.,\n",
       "         59.,  49.,  43.,  43.,  47.,  21.,   8.,  13.,   5.,   0.,   2.,\n",
       "          4.,   0.,   0.,   0.,   0.,   2.,   0.,   2.]),\n",
       " array([ 3.9       ,  4.46666667,  5.03333333,  5.6       ,  6.16666667,\n",
       "         6.73333333,  7.3       ,  7.86666667,  8.43333333,  9.        ,\n",
       "         9.56666667, 10.13333333, 10.7       , 11.26666667, 11.83333333,\n",
       "        12.4       , 12.96666667, 13.53333333, 14.1       , 14.66666667,\n",
       "        15.23333333, 15.8       , 16.36666667, 16.93333333, 17.5       ,\n",
       "        18.06666667, 18.63333333, 19.2       , 19.76666667, 20.33333333,\n",
       "        20.9       ]),\n",
       " <BarContainer object of 30 artists>)"
      ]
     },
     "execution_count": 18,
     "metadata": {},
     "output_type": "execute_result"
    },
    {
     "data": {
      "image/png": "[encoded data removed]",
      "text/plain": [
       "<Figure size 432x288 with 1 Axes>"
      ]
     },
     "metadata": {
      "needs_background": "light"
     },
     "output_type": "display_data"
    }
   ],
   "source": [
    "plt.hist(list,bins=30)\n",
    "plt.hist(dataFrame[\"Fuel Consumption(Hwy (L/100 km))\"],bins=30, alpha=0.5)"
   ]
  },
  {
   "cell_type": "code",
   "execution_count": 19,
   "metadata": {},
   "outputs": [
    {
     "name": "stderr",
     "output_type": "stream",
     "text": [
      "INFO:cmdstanpy:found newer exe file, not recompiling\n"
     ]
    }
   ],
   "source": [
    "model_2_prior=CmdStanModel(stan_file='Stan_files/model_2_prior.stan')"
   ]
  },
  {
   "cell_type": "code",
   "execution_count": 20,
   "metadata": {},
   "outputs": [
    {
     "name": "stderr",
     "output_type": "stream",
     "text": [
      "INFO:cmdstanpy:CmdStan start processing\n",
      "chain 1 |\u001b[34m██████████\u001b[0m| 00:03 Sampling completed                        "
     ]
    },
    {
     "name": "stdout",
     "output_type": "stream",
     "text": [
      "                                                                                "
     ]
    },
    {
     "name": "stderr",
     "output_type": "stream",
     "text": [
      "\n",
      "INFO:cmdstanpy:CmdStan done processing.\n"
     ]
    },
    {
     "name": "stdout",
     "output_type": "stream",
     "text": [
      "\n"
     ]
    }
   ],
   "source": [
    "samples_2_prior = model_2_prior.sample(data = {'N':N, 'engine_size':engine_size_data, 'drag_coeficient':drag_coeficient_data, 'cylinders':cylinders_data},\n",
    "iter_sampling=X,\n",
    "iter_warmup=2000,\n",
    "chains=1,\n",
    "seed=29042020,\n",
    "refresh=N)"
   ]
  },
  {
   "cell_type": "code",
   "execution_count": 21,
   "metadata": {},
   "outputs": [],
   "source": [
    "dataFrame_model_2_prior = samples_2_prior.draws_pd()\n",
    "dataFrame_model_2_prior.head()\n",
    "test = dataFrame_model_2_prior.mean(axis=0)\n"
   ]
  },
  {
   "cell_type": "code",
   "execution_count": 22,
   "metadata": {},
   "outputs": [],
   "source": [
    "list = []\n",
    "for i in range(1,N):\n",
    "    val = dataFrame_model_2_prior['fuel_consumption[' + str(i)+ ']'].mean()\n",
    "    list.append(val)\n"
   ]
  },
  {
   "cell_type": "code",
   "execution_count": 23,
   "metadata": {},
   "outputs": [
    {
     "data": {
      "text/plain": [
       "(array([  3.,   9.,   3.,  22.,  64.,  62., 100., 106.,  68., 100., 111.,\n",
       "         59.,  49.,  43.,  43.,  47.,  21.,   8.,  13.,   5.,   0.,   2.,\n",
       "          4.,   0.,   0.,   0.,   0.,   2.,   0.,   2.]),\n",
       " array([ 3.9       ,  4.46666667,  5.03333333,  5.6       ,  6.16666667,\n",
       "         6.73333333,  7.3       ,  7.86666667,  8.43333333,  9.        ,\n",
       "         9.56666667, 10.13333333, 10.7       , 11.26666667, 11.83333333,\n",
       "        12.4       , 12.96666667, 13.53333333, 14.1       , 14.66666667,\n",
       "        15.23333333, 15.8       , 16.36666667, 16.93333333, 17.5       ,\n",
       "        18.06666667, 18.63333333, 19.2       , 19.76666667, 20.33333333,\n",
       "        20.9       ]),\n",
       " <BarContainer object of 30 artists>)"
      ]
     },
     "execution_count": 23,
     "metadata": {},
     "output_type": "execute_result"
    },
    {
     "data": {
      "image/png": "[encoded data removed]",
      "text/plain": [
       "<Figure size 432x288 with 1 Axes>"
      ]
     },
     "metadata": {
      "needs_background": "light"
     },
     "output_type": "display_data"
    }
   ],
   "source": [
    "plt.hist(list,bins=30)\n",
    "plt.hist(dataFrame[\"Fuel Consumption(Hwy (L/100 km))\"],bins=30, alpha=0.5)"
   ]
  },
  {
   "cell_type": "code",
   "execution_count": 24,
   "metadata": {},
   "outputs": [],
   "source": [
    "generated_fuel_consumption = samples_2_prior.stan_variable('fuel_consumption')"
   ]
  },
  {
   "cell_type": "code",
   "execution_count": 25,
   "metadata": {},
   "outputs": [
    {
     "name": "stderr",
     "output_type": "stream",
     "text": [
      "INFO:cmdstanpy:found newer exe file, not recompiling\n"
     ]
    }
   ],
   "source": [
    "model_2_post=CmdStanModel(stan_file='Stan_files/model_2_post.stan')"
   ]
  },
  {
   "cell_type": "code",
   "execution_count": 26,
   "metadata": {},
   "outputs": [
    {
     "name": "stderr",
     "output_type": "stream",
     "text": [
      "INFO:cmdstanpy:CmdStan start processing\n",
      "chain 1 |\u001b[34m██████████\u001b[0m| 00:35 Sampling completed                         "
     ]
    },
    {
     "name": "stdout",
     "output_type": "stream",
     "text": [
      "                                                                                "
     ]
    },
    {
     "name": "stderr",
     "output_type": "stream",
     "text": [
      "\n",
      "INFO:cmdstanpy:CmdStan done processing.\n"
     ]
    },
    {
     "name": "stdout",
     "output_type": "stream",
     "text": [
      "\n"
     ]
    }
   ],
   "source": [
    "samples_2_post = model_2_post.sample(data = {'N':N, 'engine_size':engine_size_data, 'drag_coeficient':drag_coeficient_data, 'cylinders':cylinders_data, 'fuel_consumption':fuel_consumption_data},\n",
    "iter_sampling=X,\n",
    "iter_warmup=200,\n",
    "chains=1,\n",
    "seed=29042020,\n",
    "refresh=N)"
   ]
  },
  {
   "cell_type": "code",
   "execution_count": 27,
   "metadata": {},
   "outputs": [
    {
     "data": {
      "text/html": [
       "<div>\n",
       "<style scoped>\n",
       "    .dataframe tbody tr th:only-of-type {\n",
       "        vertical-align: middle;\n",
       "    }\n",
       "\n",
       "    .dataframe tbody tr th {\n",
       "        vertical-align: top;\n",
       "    }\n",
       "\n",
       "    .dataframe thead th {\n",
       "        text-align: right;\n",
       "    }\n",
       "</style>\n",
       "<table border=\"1\" class=\"dataframe\">\n",
       "  <thead>\n",
       "    <tr style=\"text-align: right;\">\n",
       "      <th></th>\n",
       "      <th>lp__</th>\n",
       "      <th>accept_stat__</th>\n",
       "      <th>stepsize__</th>\n",
       "      <th>treedepth__</th>\n",
       "      <th>n_leapfrog__</th>\n",
       "      <th>divergent__</th>\n",
       "      <th>energy__</th>\n",
       "      <th>alpha</th>\n",
       "      <th>beta_engine_size</th>\n",
       "      <th>beta_cylinders</th>\n",
       "      <th>...</th>\n",
       "      <th>log_lik[937]</th>\n",
       "      <th>log_lik[938]</th>\n",
       "      <th>log_lik[939]</th>\n",
       "      <th>log_lik[940]</th>\n",
       "      <th>log_lik[941]</th>\n",
       "      <th>log_lik[942]</th>\n",
       "      <th>log_lik[943]</th>\n",
       "      <th>log_lik[944]</th>\n",
       "      <th>log_lik[945]</th>\n",
       "      <th>log_lik[946]</th>\n",
       "    </tr>\n",
       "  </thead>\n",
       "  <tbody>\n",
       "    <tr>\n",
       "      <th>0</th>\n",
       "      <td>-796.131</td>\n",
       "      <td>0.965834</td>\n",
       "      <td>0.090928</td>\n",
       "      <td>4.0</td>\n",
       "      <td>23.0</td>\n",
       "      <td>0.0</td>\n",
       "      <td>798.035</td>\n",
       "      <td>2.52955</td>\n",
       "      <td>0.554205</td>\n",
       "      <td>0.466085</td>\n",
       "      <td>...</td>\n",
       "      <td>-2.37996</td>\n",
       "      <td>-1.67394</td>\n",
       "      <td>-1.67394</td>\n",
       "      <td>-1.67394</td>\n",
       "      <td>-2.37996</td>\n",
       "      <td>-2.53017</td>\n",
       "      <td>-2.53017</td>\n",
       "      <td>-6.18686</td>\n",
       "      <td>-1.22055</td>\n",
       "      <td>-6.18686</td>\n",
       "    </tr>\n",
       "    <tr>\n",
       "      <th>1</th>\n",
       "      <td>-797.024</td>\n",
       "      <td>0.962694</td>\n",
       "      <td>0.090928</td>\n",
       "      <td>6.0</td>\n",
       "      <td>63.0</td>\n",
       "      <td>0.0</td>\n",
       "      <td>799.769</td>\n",
       "      <td>2.57069</td>\n",
       "      <td>0.699385</td>\n",
       "      <td>0.372554</td>\n",
       "      <td>...</td>\n",
       "      <td>-2.21145</td>\n",
       "      <td>-1.59502</td>\n",
       "      <td>-1.59502</td>\n",
       "      <td>-1.59502</td>\n",
       "      <td>-2.21145</td>\n",
       "      <td>-2.34691</td>\n",
       "      <td>-2.34691</td>\n",
       "      <td>-6.68072</td>\n",
       "      <td>-1.26605</td>\n",
       "      <td>-6.68072</td>\n",
       "    </tr>\n",
       "    <tr>\n",
       "      <th>2</th>\n",
       "      <td>-796.684</td>\n",
       "      <td>0.990184</td>\n",
       "      <td>0.090928</td>\n",
       "      <td>5.0</td>\n",
       "      <td>31.0</td>\n",
       "      <td>0.0</td>\n",
       "      <td>797.895</td>\n",
       "      <td>2.66912</td>\n",
       "      <td>0.612974</td>\n",
       "      <td>0.411043</td>\n",
       "      <td>...</td>\n",
       "      <td>-2.23891</td>\n",
       "      <td>-1.59436</td>\n",
       "      <td>-1.59436</td>\n",
       "      <td>-1.59436</td>\n",
       "      <td>-2.23891</td>\n",
       "      <td>-2.37777</td>\n",
       "      <td>-2.37777</td>\n",
       "      <td>-6.74225</td>\n",
       "      <td>-1.24183</td>\n",
       "      <td>-6.74225</td>\n",
       "    </tr>\n",
       "    <tr>\n",
       "      <th>3</th>\n",
       "      <td>-796.291</td>\n",
       "      <td>0.999456</td>\n",
       "      <td>0.090928</td>\n",
       "      <td>5.0</td>\n",
       "      <td>31.0</td>\n",
       "      <td>0.0</td>\n",
       "      <td>797.170</td>\n",
       "      <td>2.55143</td>\n",
       "      <td>0.617489</td>\n",
       "      <td>0.428451</td>\n",
       "      <td>...</td>\n",
       "      <td>-2.34206</td>\n",
       "      <td>-1.64585</td>\n",
       "      <td>-1.64585</td>\n",
       "      <td>-1.64585</td>\n",
       "      <td>-2.34206</td>\n",
       "      <td>-2.49453</td>\n",
       "      <td>-2.49453</td>\n",
       "      <td>-6.50890</td>\n",
       "      <td>-1.21443</td>\n",
       "      <td>-6.50890</td>\n",
       "    </tr>\n",
       "    <tr>\n",
       "      <th>4</th>\n",
       "      <td>-797.355</td>\n",
       "      <td>0.993391</td>\n",
       "      <td>0.090928</td>\n",
       "      <td>6.0</td>\n",
       "      <td>63.0</td>\n",
       "      <td>0.0</td>\n",
       "      <td>798.173</td>\n",
       "      <td>2.12798</td>\n",
       "      <td>0.724888</td>\n",
       "      <td>0.377721</td>\n",
       "      <td>...</td>\n",
       "      <td>-2.33372</td>\n",
       "      <td>-1.65387</td>\n",
       "      <td>-1.65387</td>\n",
       "      <td>-1.65387</td>\n",
       "      <td>-2.33372</td>\n",
       "      <td>-2.45015</td>\n",
       "      <td>-2.45015</td>\n",
       "      <td>-6.31526</td>\n",
       "      <td>-1.24978</td>\n",
       "      <td>-6.31526</td>\n",
       "    </tr>\n",
       "  </tbody>\n",
       "</table>\n",
       "<p>5 rows × 1904 columns</p>\n",
       "</div>"
      ],
      "text/plain": [
       "      lp__  accept_stat__  stepsize__  treedepth__  n_leapfrog__  divergent__  \\\n",
       "0 -796.131       0.965834    0.090928          4.0          23.0          0.0   \n",
       "1 -797.024       0.962694    0.090928          6.0          63.0          0.0   \n",
       "2 -796.684       0.990184    0.090928          5.0          31.0          0.0   \n",
       "3 -796.291       0.999456    0.090928          5.0          31.0          0.0   \n",
       "4 -797.355       0.993391    0.090928          6.0          63.0          0.0   \n",
       "\n",
       "   energy__    alpha  beta_engine_size  beta_cylinders  ...  log_lik[937]  \\\n",
       "0   798.035  2.52955          0.554205        0.466085  ...      -2.37996   \n",
       "1   799.769  2.57069          0.699385        0.372554  ...      -2.21145   \n",
       "2   797.895  2.66912          0.612974        0.411043  ...      -2.23891   \n",
       "3   797.170  2.55143          0.617489        0.428451  ...      -2.34206   \n",
       "4   798.173  2.12798          0.724888        0.377721  ...      -2.33372   \n",
       "\n",
       "   log_lik[938]  log_lik[939]  log_lik[940]  log_lik[941]  log_lik[942]  \\\n",
       "0      -1.67394      -1.67394      -1.67394      -2.37996      -2.53017   \n",
       "1      -1.59502      -1.59502      -1.59502      -2.21145      -2.34691   \n",
       "2      -1.59436      -1.59436      -1.59436      -2.23891      -2.37777   \n",
       "3      -1.64585      -1.64585      -1.64585      -2.34206      -2.49453   \n",
       "4      -1.65387      -1.65387      -1.65387      -2.33372      -2.45015   \n",
       "\n",
       "   log_lik[943]  log_lik[944]  log_lik[945]  log_lik[946]  \n",
       "0      -2.53017      -6.18686      -1.22055      -6.18686  \n",
       "1      -2.34691      -6.68072      -1.26605      -6.68072  \n",
       "2      -2.37777      -6.74225      -1.24183      -6.74225  \n",
       "3      -2.49453      -6.50890      -1.21443      -6.50890  \n",
       "4      -2.45015      -6.31526      -1.24978      -6.31526  \n",
       "\n",
       "[5 rows x 1904 columns]"
      ]
     },
     "execution_count": 27,
     "metadata": {},
     "output_type": "execute_result"
    }
   ],
   "source": [
    "dataFrame_model_2_post = samples_2_post.draws_pd()\n",
    "dataFrame_model_2_post.head()"
   ]
  },
  {
   "cell_type": "code",
   "execution_count": 28,
   "metadata": {},
   "outputs": [],
   "source": [
    "list = []\n",
    "for i in range(1,N):\n",
    "    val = dataFrame_model_2_post['y_out[' + str(i)+ ']'].mean()\n",
    "    list.append(val)\n"
   ]
  },
  {
   "cell_type": "code",
   "execution_count": 29,
   "metadata": {},
   "outputs": [
    {
     "data": {
      "text/plain": [
       "(array([  3.,   9.,   3.,  22.,  64.,  62., 100., 106.,  68., 100., 111.,\n",
       "         59.,  49.,  43.,  43.,  47.,  21.,   8.,  13.,   5.,   0.,   2.,\n",
       "          4.,   0.,   0.,   0.,   0.,   2.,   0.,   2.]),\n",
       " array([ 3.9       ,  4.46666667,  5.03333333,  5.6       ,  6.16666667,\n",
       "         6.73333333,  7.3       ,  7.86666667,  8.43333333,  9.        ,\n",
       "         9.56666667, 10.13333333, 10.7       , 11.26666667, 11.83333333,\n",
       "        12.4       , 12.96666667, 13.53333333, 14.1       , 14.66666667,\n",
       "        15.23333333, 15.8       , 16.36666667, 16.93333333, 17.5       ,\n",
       "        18.06666667, 18.63333333, 19.2       , 19.76666667, 20.33333333,\n",
       "        20.9       ]),\n",
       " <BarContainer object of 30 artists>)"
      ]
     },
     "execution_count": 29,
     "metadata": {},
     "output_type": "execute_result"
    },
    {
     "data": {
      "image/png": "[encoded data removed]",
      "text/plain": [
       "<Figure size 432x288 with 1 Axes>"
      ]
     },
     "metadata": {
      "needs_background": "light"
     },
     "output_type": "display_data"
    }
   ],
   "source": [
    "plt.hist(list,bins=30)\n",
    "plt.hist(dataFrame[\"Fuel Consumption(Hwy (L/100 km))\"],bins=30, alpha=0.5)"
   ]
  },
  {
   "cell_type": "code",
   "execution_count": 30,
   "metadata": {},
   "outputs": [],
   "source": [
    "# price_sim = samples_1_post.stan_variable('y_out')\n",
    "# plt.figure(figsize=[10,6])\n",
    "# plt.scatter(engine_size_data, fuel_consumption_data, alpha=0.5, s=10)\n",
    "# plt.scatter(engine_size_data, price_sim.mean(), alpha=0.5, s=10)\n",
    "# plt.title(\"Model 2 - Posterior predictive samples\")\n",
    "# plt.legend([\"True values\", \"Predicted values\"])\n",
    "# plt.xlabel(\"Engine size\")\n",
    "# plt.ylabel(\"Fuel consumption\")\n",
    "# plt.grid()\n",
    "# plt.show()"
   ]
  },
  {
   "cell_type": "code",
   "execution_count": 31,
   "metadata": {},
   "outputs": [],
   "source": [
    "compare_dict_diff_number_pred = {\"1_pred\": samples_1_post}"
   ]
  },
  {
   "cell_type": "code",
   "execution_count": 32,
   "metadata": {},
   "outputs": [],
   "source": [
    "# comp_result_waic = az.compare(compare_dict_diff_number_pred, ic='waic',scale='deviance')"
   ]
  },
  {
   "cell_type": "code",
   "execution_count": 33,
   "metadata": {},
   "outputs": [],
   "source": [
    "# az.plot_compare(comp_result_waic)"
   ]
  },
  {
   "cell_type": "code",
   "execution_count": 34,
   "metadata": {},
   "outputs": [],
   "source": [
    "def calcQuants(x, y):\n",
    "    qlvls = [0, 1]\n",
    "    quansList = [[], []]\n",
    "    for i in range(y.shape[-1]):\n",
    "        temp = y[:, i]\n",
    "        for q, lvl in zip(quansList, qlvls):\n",
    "            q.append(np.quantile(temp, lvl))\n",
    "    return quansList\n",
    "\n",
    "def quantsExtremes(df, y, q):\n",
    "    carat_uq = df['Engine Size(L)'].unique()\n",
    "    carat_uq = sorted(carat_uq)\n",
    "    quansList = calcQuants(df['Engine Size(L)'], y)\n",
    "    caratQuantDict = dict()\n",
    "    for carat_val in carat_uq:\n",
    "        caratList = np.array(df['Engine Size(L)'].tolist())\n",
    "        idxs = np.where(caratList == carat_val)[0]\n",
    "        qval = quansList[q][idxs[0]]\n",
    "        for i in idxs:\n",
    "            if q == 0 and quansList[q][i] < qval:\n",
    "                qval = quansList[q][i]\n",
    "            elif q == 1 and quansList[q][i] > qval:\n",
    "                qval = quansList[q][i]\n",
    "        caratQuantDict[carat_val] = qval\n",
    "    return caratQuantDict"
   ]
  },
  {
   "cell_type": "code",
   "execution_count": 35,
   "metadata": {},
   "outputs": [
    {
     "data": {
      "text/plain": [
       "<Figure size 720x432 with 0 Axes>"
      ]
     },
     "metadata": {},
     "output_type": "display_data"
    },
    {
     "data": {
      "image/png": "[encoded data removed]",
      "text/plain": [
       "<Figure size 720x432 with 1 Axes>"
      ]
     },
     "metadata": {
      "needs_background": "light"
     },
     "output_type": "display_data"
    }
   ],
   "source": [
    "plt.figure(figsize=[10, 6])\n",
    "\n",
    "price_sim = samples_1_post.stan_variable('y_out')\n",
    "\n",
    "caratQuantMinDict = quantsExtremes(dataFrame, price_sim, 0)\n",
    "caratMin = (caratQuantMinDict.keys())\n",
    "quantMin = (caratQuantMinDict.values())\n",
    "\n",
    "caratQuantMaxDict = quantsExtremes(dataFrame, price_sim, 1)\n",
    "caratMax = (caratQuantMaxDict.keys())\n",
    "quantMax = (caratQuantMaxDict.values())\n",
    "\n",
    "plt.figure(figsize=[10, 6])\n",
    "plt.plot(caratMin, quantMin, color='purple')\n",
    "plt.plot(caratMax, quantMax, color='orange')\n",
    "plt.scatter(dataFrame['Engine Size(L)'], dataFrame['Fuel Consumption(Hwy (L/100 km))'], color='black', alpha=0.2, s=10)\n",
    "plt.xlabel(\"Carat\")\n",
    "plt.ylabel(\"Price\")\n",
    "plt.title(\"Model 2 - Post predictive check\")\n",
    "plt.legend(['min', 'max', 'data'])\n",
    "plt.grid()\n",
    "plt.show()"
   ]
  },
  {
   "cell_type": "code",
   "execution_count": 36,
   "metadata": {},
   "outputs": [
    {
     "data": {
      "text/plain": [
       "<Figure size 720x432 with 0 Axes>"
      ]
     },
     "metadata": {},
     "output_type": "display_data"
    },
    {
     "data": {
      "image/png": "[encoded data removed]",
      "text/plain": [
       "<Figure size 720x432 with 1 Axes>"
      ]
     },
     "metadata": {
      "needs_background": "light"
     },
     "output_type": "display_data"
    }
   ],
   "source": [
    "plt.figure(figsize=[10, 6])\n",
    "\n",
    "price_sim = samples_2_post.stan_variable('y_out')\n",
    "\n",
    "caratQuantMinDict = quantsExtremes(dataFrame, price_sim, 0)\n",
    "caratMin = (caratQuantMinDict.keys())\n",
    "quantMin = (caratQuantMinDict.values())\n",
    "\n",
    "caratQuantMaxDict = quantsExtremes(dataFrame, price_sim, 1)\n",
    "caratMax = (caratQuantMaxDict.keys())\n",
    "quantMax = (caratQuantMaxDict.values())\n",
    "\n",
    "plt.figure(figsize=[10, 6])\n",
    "plt.plot(caratMin, quantMin, color='purple')\n",
    "plt.plot(caratMax, quantMax, color='orange')\n",
    "plt.scatter(dataFrame['Engine Size(L)'], dataFrame['Fuel Consumption(Hwy (L/100 km))'], color='black', alpha=0.2, s=10)\n",
    "plt.xlabel(\"Carat\")\n",
    "plt.ylabel(\"Price\")\n",
    "plt.title(\"Model 2 - Post predictive check\")\n",
    "plt.legend(['min', 'max', 'data'])\n",
    "plt.grid()\n",
    "plt.show()"
   ]
  },
  {
   "cell_type": "code",
   "execution_count": 37,
   "metadata": {},
   "outputs": [],
   "source": [
    "# dataFrame['Fuel Consumption(Hwy (L/100 km))'].plot.density(figsize=(10,6), linewidth=2, color='red')\n",
    "# y_out_var = samples_2_post.stan_variable('y_out')\n",
    "\n",
    "# price_sim.density(figsize=(10,6), linewidth=2, color='red')\n",
    "# plt.title('Density plot for Price')\n",
    "# plt.legend([\"True values\", \"Predicted values\"])\n",
    "# plt.grid()\n",
    "# plt.show()"
   ]
  },
  {
   "cell_type": "code",
   "execution_count": 38,
   "metadata": {},
   "outputs": [],
   "source": [
    "# fit_1 = az.from_dict(\n",
    "#     posterior=samples_1_prior,\n",
    "#     log_likelihood={\"log_lik\": samples_1_prior[\"log_lik\"]},\n",
    "#     observed_data={\"fuel_consumption\": fuel_consumption_data}\n",
    "# )\n",
    "\n",
    "# fit_2 = az.from_dict(\n",
    "#     posterior=model_2_post,\n",
    "#     log_likelihood={\"log_lik\": model_2_post[\"log_lik\"]},\n",
    "#     observed_data={\"fuel_consumption\": fuel_consumption_data}\n",
    "# )"
   ]
  },
  {
   "cell_type": "code",
   "execution_count": 39,
   "metadata": {},
   "outputs": [],
   "source": [
    "idata1 = az.from_cmdstanpy(\n",
    "    posterior=samples_1_post,\n",
    "    posterior_predictive='y_out',\n",
    "    log_likelihood='log_lik',\n",
    "    observed_data={'fuel_consumption': fuel_consumption_data}\n",
    ")\n",
    "\n",
    "idata2 = az.from_cmdstanpy(\n",
    "    posterior=samples_2_post,\n",
    "    posterior_predictive='y_out',\n",
    "    log_likelihood='log_lik',\n",
    "    observed_data={'fuel_consumption': fuel_consumption_data}\n",
    ")\n",
    "\n",
    "\n"
   ]
  },
  {
   "cell_type": "code",
   "execution_count": 43,
   "metadata": {},
   "outputs": [
    {
     "name": "stdout",
     "output_type": "stream",
     "text": [
      "         rank          loo     p_loo      d_loo    weight         se  \\\n",
      "model 2     0 -1632.708570  7.055200   0.000000  0.917221  35.328784   \n",
      "model 1     1 -1667.694116  5.713219  34.985547  0.082779  34.258468   \n",
      "\n",
      "               dse  warning loo_scale  \n",
      "model 2   0.000000    False       log  \n",
      "model 1  10.141278    False       log  \n"
     ]
    },
    {
     "data": {
      "image/png": "[encoded data removed]",
      "text/plain": [
       "<Figure size 432x144 with 1 Axes>"
      ]
     },
     "metadata": {
      "needs_background": "light"
     },
     "output_type": "display_data"
    }
   ],
   "source": [
    "compare=az.compare({'model 1':samples_1_post,'model 2':samples_2_post}, ic='loo')\n",
    "az.plot_compare(compare)\n",
    "print(compare)"
   ]
  },
  {
   "cell_type": "code",
   "execution_count": 44,
   "metadata": {},
   "outputs": [
    {
     "name": "stderr",
     "output_type": "stream",
     "text": [
      "/usr/local/lib/python3.12/site-packages/arviz/stats/stats.py:1635: UserWarning: For one or more samples the posterior variance of the log predictive densities exceeds 0.4. This could be indication of WAIC starting to fail. \n",
      "See http://arxiv.org/abs/1507.04544 for details\n",
      "  warnings.warn(\n"
     ]
    },
    {
     "name": "stdout",
     "output_type": "stream",
     "text": [
      "         rank         waic    p_waic    d_waic    weight         se  \\\n",
      "model 2     0 -1632.708364  7.054993   0.00000  0.917223  35.329115   \n",
      "model 1     1 -1667.694534  5.713637  34.98617  0.082777  34.258793   \n",
      "\n",
      "               dse  warning waic_scale  \n",
      "model 2   0.000000     True        log  \n",
      "model 1  10.141513     True        log  \n"
     ]
    },
    {
     "name": "stderr",
     "output_type": "stream",
     "text": [
      "/usr/local/lib/python3.12/site-packages/arviz/stats/stats.py:1635: UserWarning: For one or more samples the posterior variance of the log predictive densities exceeds 0.4. This could be indication of WAIC starting to fail. \n",
      "See http://arxiv.org/abs/1507.04544 for details\n",
      "  warnings.warn(\n"
     ]
    },
    {
     "data": {
      "image/png": "[encoded data removed]",
      "text/plain": [
       "<Figure size 432x144 with 1 Axes>"
      ]
     },
     "metadata": {
      "needs_background": "light"
     },
     "output_type": "display_data"
    }
   ],
   "source": [
    "compare=az.compare({'model 1':samples_1_post,'model 2':samples_2_post}, ic='waic')\n",
    "az.plot_compare(compare)\n",
    "print(compare)"
   ]
  },
  {
   "cell_type": "code",
   "execution_count": 42,
   "metadata": {},
   "outputs": [
    {
     "ename": "NameError",
     "evalue": "name 'compare_dict' is not defined",
     "output_type": "error",
     "traceback": [
      "\u001b[0;31m---------------------------------------------------------------------------\u001b[0m",
      "\u001b[0;31mNameError\u001b[0m                                 Traceback (most recent call last)",
      "Input \u001b[0;32mIn [42]\u001b[0m, in \u001b[0;36m<cell line: 0>\u001b[0;34m()\u001b[0m\n\u001b[1;32m      1\u001b[0m \u001b[38;5;66;03m# loo_result = az.loo(idata1, pointwise=True)\u001b[39;00m\n\u001b[1;32m      2\u001b[0m \n\u001b[1;32m      3\u001b[0m \u001b[38;5;66;03m# compare_dict = {\"Model_1\": idata1, \"Model_2\": idata2}\u001b[39;00m\n\u001b[0;32m----> 5\u001b[0m comp_loo \u001b[38;5;241m=\u001b[39m az\u001b[38;5;241m.\u001b[39mcompare(compare_dict, ic \u001b[38;5;241m=\u001b[39m \u001b[38;5;124m\"\u001b[39m\u001b[38;5;124mloo\u001b[39m\u001b[38;5;124m\"\u001b[39m)\n",
      "\u001b[0;31mNameError\u001b[0m: name 'compare_dict' is not defined"
     ]
    }
   ],
   "source": []
  }
 ],
 "metadata": {
  "kernelspec": {
   "display_name": "Python 3",
   "language": "python",
   "name": "python3"
  },
  "language_info": {
   "codemirror_mode": {
    "name": "ipython",
    "version": 3
   },
   "file_extension": ".py",
   "mimetype": "text/x-python",
   "name": "python",
   "nbconvert_exporter": "python",
   "pygments_lexer": "ipython3",
   "version": "3.12.2"
  }
 },
 "nbformat": 4,
 "nbformat_minor": 2
}
